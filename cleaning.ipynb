{
 "cells": [
  {
   "cell_type": "markdown",
   "id": "a02ee904",
   "metadata": {},
   "source": [
    "# Cleaning the Mahabharata Text"
   ]
  },
  {
   "cell_type": "code",
   "execution_count": 17,
   "id": "137bbf95",
   "metadata": {},
   "outputs": [],
   "source": [
    "import re"
   ]
  },
  {
   "cell_type": "markdown",
   "id": "e081abf0",
   "metadata": {},
   "source": [
    "## Reading the File"
   ]
  },
  {
   "cell_type": "code",
   "execution_count": 18,
   "id": "1564bbdc",
   "metadata": {},
   "outputs": [
    {
     "name": "stdout",
     "output_type": "stream",
     "text": [
      "Sentences have been stored in sentences.txt.\n",
      "12647\n"
     ]
    }
   ],
   "source": [
    "with open('originalText.txt', 'r') as file:\n",
    "    text = file.readlines()\n",
    "\n",
    "sentences = []\n",
    "for i in range (0,len(text)):\n",
    "    if(i%2==0):\n",
    "        continue\n",
    "    sentences.append(text[i])\n",
    "\n",
    "# Writing only the sentences in different file\n",
    "with open('onlySentences.txt', 'w') as new_file:\n",
    "    for sentence in sentences:\n",
    "        new_file.write(sentence)\n",
    "\n",
    "print(\"Sentences have been stored in sentences.txt.\")\n",
    "print(len(sentences))"
   ]
  },
  {
   "cell_type": "markdown",
   "id": "05fbfdc3",
   "metadata": {},
   "source": [
    "### Function to remove Greek letters"
   ]
  },
  {
   "cell_type": "code",
   "execution_count": 19,
   "id": "76f578a7",
   "metadata": {},
   "outputs": [],
   "source": [
    "def remove_greek(text):\n",
    "    greek_letters = ['α', 'β', 'γ', 'δ', 'ε', 'ζ', 'η', 'θ', 'ι', 'κ', 'λ', 'μ', 'ν', 'ξ', 'ο', 'π', 'ρ', 'σ', 'τ', 'υ', 'φ', 'χ', 'ψ', 'ω','§','†','—','-',':','*','ϕ']\n",
    "    txt = \"\"\n",
    "    for i in text:\n",
    "        if i in greek_letters:\n",
    "            txt = txt + ' '\n",
    "            continue\n",
    "        txt = txt + i\n",
    "    return txt"
   ]
  },
  {
   "cell_type": "markdown",
   "id": "35b82516",
   "metadata": {},
   "source": [
    "### Function to remove Roman Numerals"
   ]
  },
  {
   "cell_type": "code",
   "execution_count": 20,
   "id": "4c432c82",
   "metadata": {},
   "outputs": [],
   "source": [
    "def remove_specific_roman_numerals(text):\n",
    "    numerals_to_remove = ['I','I,', 'II', 'III','D', 'IV','V', 'VI', 'VII', 'VIII', 'IX', 'X', 'XI', 'XII', 'XIII', 'XIV', 'XV', 'XVI', 'XVII', 'XVIII', 'XIX', 'XX']\n",
    "    pattern = r'\\b(?:' + '|'.join(numerals_to_remove) + r')\\b'\n",
    "    cleaned_text = re.sub(pattern, '', text)\n",
    "    return cleaned_text"
   ]
  },
  {
   "cell_type": "markdown",
   "id": "2c87c1f2",
   "metadata": {},
   "source": [
    "### Function to remove Unnecessary Digits"
   ]
  },
  {
   "cell_type": "code",
   "execution_count": 21,
   "id": "fad09151",
   "metadata": {},
   "outputs": [],
   "source": [
    "def remove_digits_keep_numbers_after_letters(text):\n",
    "    # Define a regular expression pattern to match digits that don't come after letters\n",
    "    pattern = r'(?<![a-zA-Z])\\d+'\n",
    "    # Replace matched digits with an empty string\n",
    "    cleaned_text = re.sub(pattern, '', text)\n",
    "    return cleaned_text"
   ]
  },
  {
   "cell_type": "markdown",
   "id": "618622b3",
   "metadata": {},
   "source": [
    "### Function to remove Brackets"
   ]
  },
  {
   "cell_type": "code",
   "execution_count": 22,
   "id": "84df0f6a",
   "metadata": {},
   "outputs": [],
   "source": [
    "def remove_brackets(text):\n",
    "    textt = \"\"\n",
    "    for i in text:\n",
    "        if(i=='[' or i==']' or i=='(' or i==')' or i=='{' or i=='}'):\n",
    "            continue\n",
    "        textt = textt + i\n",
    "    return textt"
   ]
  },
  {
   "cell_type": "markdown",
   "id": "be39cc2a",
   "metadata": {},
   "source": [
    "### Function to remove Special Characters"
   ]
  },
  {
   "cell_type": "code",
   "execution_count": 23,
   "id": "04781ff3",
   "metadata": {},
   "outputs": [],
   "source": [
    "def clean_text(text):\n",
    "    # Remove numbers, †, and —§\n",
    "    cleaned_text = re.sub(r'\\|†|—§|§|-|—|:|(do.)|()|', '', text)\n",
    "    cleaned_text = re.sub(r'\\|θ|β|nihataṃ|\\(\\)|\\[\\]', '',cleaned_text)\n",
    "    cleaned_text = re.sub(r'\\*', '', cleaned_text)\n",
    "    cleaned_text = remove_specific_roman_numerals(cleaned_text)\n",
    "    cleaned_text = remove_digits_keep_numbers_after_letters(cleaned_text)\n",
    "    cleaned_text = re.sub(r',+', ',', cleaned_text)\n",
    "    # Remove extra spaces\n",
    "    cleaned_text = re.sub(r'\\s+', ' ', cleaned_text)\n",
    "    # Remove leading and trailing spaces\n",
    "    cleaned_text = cleaned_text.strip()\n",
    "    return cleaned_text"
   ]
  },
  {
   "cell_type": "markdown",
   "id": "29074b02",
   "metadata": {},
   "source": [
    "### Function to remove Comma"
   ]
  },
  {
   "cell_type": "code",
   "execution_count": 24,
   "id": "62664981",
   "metadata": {},
   "outputs": [],
   "source": [
    "def clean_comma(text):\n",
    "    cleaned_text = ''\n",
    "    prev_char = ''\n",
    "    for char in text:\n",
    "        # Append valid characters to the cleaned text\n",
    "        if char.isalnum() or char in [' ', ',','=','.']:\n",
    "            # Add only one comma if consecutive commas are found\n",
    "            if (char == ',' and prev_char == ','):\n",
    "                continue\n",
    "            # Append the character to the cleaned text\n",
    "            cleaned_text += char\n",
    "        # Store the previous character\n",
    "        prev_char = char\n",
    "    # Split the text by commas and remove empty segments\n",
    "    segments = [segment.strip() for segment in cleaned_text.split(',') if segment.strip()]\n",
    "    # Join the segments with commas\n",
    "    cleaned_text = ', '.join(segments)\n",
    "    return cleaned_text"
   ]
  },
  {
   "cell_type": "markdown",
   "id": "c3c1675d",
   "metadata": {},
   "source": [
    "### Function to remove Dots"
   ]
  },
  {
   "cell_type": "code",
   "execution_count": 25,
   "id": "18e5ee46",
   "metadata": {},
   "outputs": [],
   "source": [
    "def clean_dot(text):\n",
    "    cleaned_text = ''\n",
    "    prev_char = ''\n",
    "    for char in text:\n",
    "        # Append valid characters to the cleaned text\n",
    "        if char.isalnum() or char in [' ', ',','=','.']:\n",
    "            # Add only one comma if consecutive commas are found\n",
    "            if (char == '.' and prev_char == '.'):\n",
    "                continue\n",
    "            # Append the character to the cleaned text\n",
    "            cleaned_text += char\n",
    "        # Store the previous character\n",
    "        prev_char = char\n",
    "    # Split the text by commas and remove empty segments\n",
    "    segments = [segment.strip() for segment in cleaned_text.split('.') if segment.strip()]\n",
    "    # Join the segments with commas\n",
    "    cleaned_text = '. '.join(segments)\n",
    "    return cleaned_text"
   ]
  },
  {
   "cell_type": "markdown",
   "id": "eab3b786",
   "metadata": {},
   "source": [
    "### Function to remove Content Inside Brackets"
   ]
  },
  {
   "cell_type": "code",
   "execution_count": 26,
   "id": "14ed50ea",
   "metadata": {},
   "outputs": [],
   "source": [
    "def remove_content_inside_brackets(text):\n",
    "    txt = \"\"\n",
    "    cnt = 0\n",
    "    for i in text:\n",
    "        if(i=='(' or i=='[' or i=='{'):\n",
    "            cnt = cnt + 1\n",
    "            continue\n",
    "        if(i==')' or i==']' or i=='}'):\n",
    "            cnt = cnt - 1\n",
    "            continue\n",
    "        if(cnt==0):\n",
    "            txt = txt + i\n",
    "    return txt"
   ]
  },
  {
   "cell_type": "markdown",
   "id": "0e510889",
   "metadata": {},
   "source": [
    "### Function to remove unnecessary patterns"
   ]
  },
  {
   "cell_type": "code",
   "execution_count": 27,
   "id": "3b8fbbe5",
   "metadata": {},
   "outputs": [],
   "source": [
    "def remove_dotComma(txt1):\n",
    "    pattern = r'\\.,'\n",
    "    # Remove \".,\" using regex\n",
    "    cleaned_text = re.sub(pattern, '', txt1)\n",
    "    return cleaned_text\n",
    "\n",
    "def remove_alone_dot(text):\n",
    "    pattern = r'\\s+\\.\\s+'\n",
    "    # Remove the dots surrounded by spaces using regex\n",
    "    cleaned_text = re.sub(pattern, ' ', text)\n",
    "    return cleaned_text\n",
    "\n",
    "def remove_thday(text):\n",
    "    words = text.split()\n",
    "    # Remove \"th day,\" from the list of words\n",
    "    cleaned_words = [word for word in words if word != \"th\" and word != \"day,\"]\n",
    "    # Join the remaining words back into a sentence\n",
    "    cleaned_sentence = ' '.join(cleaned_words)\n",
    "    return cleaned_sentence\n",
    "\n",
    "def remove_cfdot(text):\n",
    "    words = text.split()\n",
    "    # Remove \"th day,\" from the list of words\n",
    "    cleaned_words = [word for word in words if word != \"cf.\"]\n",
    "    # Join the remaining words back into a sentence\n",
    "    cleaned_sentence = ' '.join(cleaned_words)\n",
    "    return cleaned_sentence\n",
    "\n",
    "def remove_cFdot(text):\n",
    "    words = text.split()\n",
    "    # Remove \"th day,\" from the list of words\n",
    "    cleaned_words = [word for word in words if word != \"Cf.\"]\n",
    "    # Join the remaining words back into a sentence\n",
    "    cleaned_sentence = ' '.join(cleaned_words)\n",
    "    return cleaned_sentence"
   ]
  },
  {
   "cell_type": "code",
   "execution_count": 28,
   "id": "2cf0467d",
   "metadata": {},
   "outputs": [
    {
     "name": "stdout",
     "output_type": "stream",
     "text": [
      "12647\n"
     ]
    }
   ],
   "source": [
    "cleanTextFile = []\n",
    "newTextFile = []\n",
    "print(len(sentences))"
   ]
  },
  {
   "cell_type": "code",
   "execution_count": 29,
   "id": "967557db",
   "metadata": {},
   "outputs": [
    {
     "name": "stdout",
     "output_type": "stream",
     "text": [
      "12647\n",
      "12647\n"
     ]
    }
   ],
   "source": [
    "# Original text\n",
    "cleanTextFile = []\n",
    "newTextFile = []\n",
    "\n",
    "print(len(sentences))\n",
    "for i in range(0,len(sentences)):\n",
    "    txt = remove_greek(sentences[i])\n",
    "    txt = clean_text(txt)\n",
    "    txt = remove_content_inside_brackets(txt)\n",
    "    txt = clean_comma(txt)\n",
    "    txt = remove_dotComma(txt)\n",
    "    txt = remove_specific_roman_numerals(txt)\n",
    "    txt = remove_thday(txt)\n",
    "    txt = remove_cfdot(txt)\n",
    "    txt = remove_cFdot(txt)\n",
    "    cleanTextFile.append(txt)\n",
    "    \n",
    "print(len(cleanTextFile))\n",
    "for i in cleanTextFile:\n",
    "    newTextFile.append(clean_comma(i))\n"
   ]
  },
  {
   "cell_type": "markdown",
   "id": "b95166f6",
   "metadata": {},
   "source": [
    "## Creating clean text without comma"
   ]
  },
  {
   "cell_type": "code",
   "execution_count": 30,
   "id": "fc3705cc",
   "metadata": {},
   "outputs": [],
   "source": [
    "with open('cleanedTextFile.txt', 'w') as new_file1:\n",
    "    for sentence in cleanTextFile:\n",
    "        new_file1.write(sentence + '\\n')\n"
   ]
  },
  {
   "cell_type": "markdown",
   "id": "132880d5",
   "metadata": {},
   "source": [
    "## Creating clean text with comma"
   ]
  },
  {
   "cell_type": "code",
   "execution_count": 31,
   "id": "8bc2e218",
   "metadata": {},
   "outputs": [],
   "source": [
    "with open('cleanedTextFileFinalDONE.txt', 'w') as new_file2:\n",
    "    for sentence in newTextFile:\n",
    "        new_file2.write(sentence + '\\n')"
   ]
  }
 ],
 "metadata": {
  "kernelspec": {
   "display_name": "Python 3 (ipykernel)",
   "language": "python",
   "name": "python3"
  },
  "language_info": {
   "codemirror_mode": {
    "name": "ipython",
    "version": 3
   },
   "file_extension": ".py",
   "mimetype": "text/x-python",
   "name": "python",
   "nbconvert_exporter": "python",
   "pygments_lexer": "ipython3",
   "version": "3.9.13"
  }
 },
 "nbformat": 4,
 "nbformat_minor": 5
}

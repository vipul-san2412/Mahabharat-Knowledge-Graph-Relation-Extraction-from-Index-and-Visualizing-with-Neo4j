{
 "cells": [
  {
   "cell_type": "code",
   "execution_count": 12,
   "id": "60e4b224",
   "metadata": {
    "execution": {
     "iopub.execute_input": "2024-04-23T13:02:16.099165Z",
     "iopub.status.busy": "2024-04-23T13:02:16.098431Z",
     "iopub.status.idle": "2024-04-23T13:02:32.946391Z",
     "shell.execute_reply": "2024-04-23T13:02:32.944948Z",
     "shell.execute_reply.started": "2024-04-23T13:02:16.099127Z"
    }
   },
   "outputs": [
    {
     "name": "stdout",
     "output_type": "stream",
     "text": [
      "Collecting diaparser\n",
      "  Downloading diaparser-1.1.3-py3-none-any.whl.metadata (16 kB)\n",
      "Requirement already satisfied: torch>=1.6 in /opt/conda/lib/python3.10/site-packages (from diaparser) (2.1.2+cpu)\n",
      "Requirement already satisfied: transformers in /opt/conda/lib/python3.10/site-packages (from diaparser) (4.39.3)\n",
      "Requirement already satisfied: nltk in /opt/conda/lib/python3.10/site-packages (from diaparser) (3.2.4)\n",
      "Collecting stanza==1.2.3 (from diaparser)\n",
      "  Downloading stanza-1.2.3-py3-none-any.whl.metadata (11 kB)\n",
      "Requirement already satisfied: numpy in /opt/conda/lib/python3.10/site-packages (from diaparser) (1.26.4)\n",
      "Requirement already satisfied: protobuf in /opt/conda/lib/python3.10/site-packages (from stanza==1.2.3->diaparser) (3.20.3)\n",
      "Requirement already satisfied: requests in /opt/conda/lib/python3.10/site-packages (from stanza==1.2.3->diaparser) (2.31.0)\n",
      "Requirement already satisfied: tqdm in /opt/conda/lib/python3.10/site-packages (from stanza==1.2.3->diaparser) (4.66.1)\n",
      "Requirement already satisfied: filelock in /opt/conda/lib/python3.10/site-packages (from torch>=1.6->diaparser) (3.13.1)\n",
      "Requirement already satisfied: typing-extensions in /opt/conda/lib/python3.10/site-packages (from torch>=1.6->diaparser) (4.9.0)\n",
      "Requirement already satisfied: sympy in /opt/conda/lib/python3.10/site-packages (from torch>=1.6->diaparser) (1.12)\n",
      "Requirement already satisfied: networkx in /opt/conda/lib/python3.10/site-packages (from torch>=1.6->diaparser) (3.2.1)\n",
      "Requirement already satisfied: jinja2 in /opt/conda/lib/python3.10/site-packages (from torch>=1.6->diaparser) (3.1.2)\n",
      "Requirement already satisfied: fsspec in /opt/conda/lib/python3.10/site-packages (from torch>=1.6->diaparser) (2024.2.0)\n",
      "Requirement already satisfied: six in /opt/conda/lib/python3.10/site-packages (from nltk->diaparser) (1.16.0)\n",
      "Requirement already satisfied: huggingface-hub<1.0,>=0.19.3 in /opt/conda/lib/python3.10/site-packages (from transformers->diaparser) (0.22.2)\n",
      "Requirement already satisfied: packaging>=20.0 in /opt/conda/lib/python3.10/site-packages (from transformers->diaparser) (21.3)\n",
      "Requirement already satisfied: pyyaml>=5.1 in /opt/conda/lib/python3.10/site-packages (from transformers->diaparser) (6.0.1)\n",
      "Requirement already satisfied: regex!=2019.12.17 in /opt/conda/lib/python3.10/site-packages (from transformers->diaparser) (2023.12.25)\n",
      "Requirement already satisfied: tokenizers<0.19,>=0.14 in /opt/conda/lib/python3.10/site-packages (from transformers->diaparser) (0.15.2)\n",
      "Requirement already satisfied: safetensors>=0.4.1 in /opt/conda/lib/python3.10/site-packages (from transformers->diaparser) (0.4.3)\n",
      "Requirement already satisfied: pyparsing!=3.0.5,>=2.0.2 in /opt/conda/lib/python3.10/site-packages (from packaging>=20.0->transformers->diaparser) (3.1.1)\n",
      "Requirement already satisfied: MarkupSafe>=2.0 in /opt/conda/lib/python3.10/site-packages (from jinja2->torch>=1.6->diaparser) (2.1.3)\n",
      "Requirement already satisfied: charset-normalizer<4,>=2 in /opt/conda/lib/python3.10/site-packages (from requests->stanza==1.2.3->diaparser) (3.3.2)\n",
      "Requirement already satisfied: idna<4,>=2.5 in /opt/conda/lib/python3.10/site-packages (from requests->stanza==1.2.3->diaparser) (3.6)\n",
      "Requirement already satisfied: urllib3<3,>=1.21.1 in /opt/conda/lib/python3.10/site-packages (from requests->stanza==1.2.3->diaparser) (1.26.18)\n",
      "Requirement already satisfied: certifi>=2017.4.17 in /opt/conda/lib/python3.10/site-packages (from requests->stanza==1.2.3->diaparser) (2024.2.2)\n",
      "Requirement already satisfied: mpmath>=0.19 in /opt/conda/lib/python3.10/site-packages (from sympy->torch>=1.6->diaparser) (1.3.0)\n",
      "Downloading diaparser-1.1.3-py3-none-any.whl (69 kB)\n",
      "\u001b[2K   \u001b[90m━━━━━━━━━━━━━━━━━━━━━━━━━━━━━━━━━━━━━━━━\u001b[0m \u001b[32m69.7/69.7 kB\u001b[0m \u001b[31m3.0 MB/s\u001b[0m eta \u001b[36m0:00:00\u001b[0m\n",
      "\u001b[?25hDownloading stanza-1.2.3-py3-none-any.whl (342 kB)\n",
      "\u001b[2K   \u001b[90m━━━━━━━━━━━━━━━━━━━━━━━━━━━━━━━━━━━━━━━━\u001b[0m \u001b[32m342.1/342.1 kB\u001b[0m \u001b[31m10.6 MB/s\u001b[0m eta \u001b[36m0:00:00\u001b[0m\n",
      "\u001b[?25hInstalling collected packages: stanza, diaparser\n",
      "Successfully installed diaparser-1.1.3 stanza-1.2.3\n"
     ]
    }
   ],
   "source": [
    "!pip install diaparser"
   ]
  },
  {
   "cell_type": "code",
   "execution_count": 13,
   "id": "60737c89",
   "metadata": {
    "execution": {
     "iopub.execute_input": "2024-04-23T13:03:06.247350Z",
     "iopub.status.busy": "2024-04-23T13:03:06.246863Z",
     "iopub.status.idle": "2024-04-23T13:03:06.277118Z",
     "shell.execute_reply": "2024-04-23T13:03:06.276254Z",
     "shell.execute_reply.started": "2024-04-23T13:03:06.247310Z"
    }
   },
   "outputs": [],
   "source": [
    "texts = []\n",
    "\n",
    "with open('/kaggle/input/mahabharat-index/cleanedTextFileFinalDONE.txt', 'r',encoding='utf-8') as file:\n",
    "    for line in file:\n",
    "        texts.append(line[:-1])\n",
    "        \n"
   ]
  },
  {
   "cell_type": "code",
   "execution_count": 14,
   "id": "f70d69ff",
   "metadata": {
    "execution": {
     "iopub.execute_input": "2024-04-23T13:03:06.600831Z",
     "iopub.status.busy": "2024-04-23T13:03:06.600398Z",
     "iopub.status.idle": "2024-04-23T13:03:06.609149Z",
     "shell.execute_reply": "2024-04-23T13:03:06.607852Z",
     "shell.execute_reply.started": "2024-04-23T13:03:06.600799Z"
    }
   },
   "outputs": [
    {
     "data": {
      "text/plain": [
       "['Abhīru, a king, who was an incarnation of the sixth of the eight Asuras of the family of the Kāleyāḥ, .',\n",
       " 'Abhisāra, a people  . Together with other barbarous tribes they fight Arjuna on the th day of the great battle, . They are mentioned by Kṛṣṇa among the auxiliaries of Duryodhana, on the th day of the battle.',\n",
       " 'Abhīsāra, enumerated by Sañjaya among the people of Bhāratavarṣa, .',\n",
       " 'Abhisārī, a town conquered by Arjuna  on his Digvijaya, .',\n",
       " 'Abhiṣāha, a people  with other barbarous tribes they attack Arjuna at the instigation of Duḥśāsana on the th day of the great battle, . .',\n",
       " 'Abhīṣāha, a people   first day of the battle, .  th day, .  th day, .  th day, . After the th day, .',\n",
       " 'Ābhiṣecanika parva, i.e .',\n",
       " 'Abhiṣyanta, the second of the five sons of Kuru and Vāhinī, .',\n",
       " 'Abhivādya = Śiva',\n",
       " 'Acala1, brother in law of Dhṛtāraṣṭra, brother of Śakuni, .']"
      ]
     },
     "execution_count": 14,
     "metadata": {},
     "output_type": "execute_result"
    }
   ],
   "source": [
    "texts[20:30]"
   ]
  },
  {
   "cell_type": "code",
   "execution_count": 15,
   "id": "79f47963",
   "metadata": {
    "execution": {
     "iopub.execute_input": "2024-04-23T13:03:07.947533Z",
     "iopub.status.busy": "2024-04-23T13:03:07.947130Z",
     "iopub.status.idle": "2024-04-23T13:03:07.956763Z",
     "shell.execute_reply": "2024-04-23T13:03:07.955644Z",
     "shell.execute_reply.started": "2024-04-23T13:03:07.947505Z"
    }
   },
   "outputs": [],
   "source": [
    "def extract_rel_window(text_list, keywords_list):\n",
    "    sents = []\n",
    "    for sent in text_list: \n",
    "        for keyword in keywords_list:\n",
    "            if keyword in sent:\n",
    "                index = sent.find(keyword)\n",
    "                min_idx = index\n",
    "                max_idx = index\n",
    "                \n",
    "                while min_idx>=0 and sent[min_idx]!='.':\n",
    "                    min_idx = min_idx-1\n",
    "                while max_idx<len(sent) and sent[max_idx]!='.':\n",
    "                    max_idx = max_idx+1\n",
    "                \n",
    "                # max_idx = len(sent)-1\n",
    "                # if index+window_size<len(sent)-1:\n",
    "                #     max_idx = index+window_size\n",
    "                min_idx = min_idx + 1\n",
    "                sents.append(sent[min_idx:max_idx])\n",
    "    return sents"
   ]
  },
  {
   "cell_type": "code",
   "execution_count": 16,
   "id": "50b37a91",
   "metadata": {
    "execution": {
     "iopub.execute_input": "2024-04-23T13:03:09.442666Z",
     "iopub.status.busy": "2024-04-23T13:03:09.442220Z",
     "iopub.status.idle": "2024-04-23T13:03:09.461424Z",
     "shell.execute_reply": "2024-04-23T13:03:09.459963Z",
     "shell.execute_reply.started": "2024-04-23T13:03:09.442632Z"
    },
    "scrolled": true
   },
   "outputs": [
    {
     "data": {
      "text/plain": [
       "['aśvapati2, a king of the madras, father of sāvitrī, ',\n",
       " 'adhiratha, a sūta in the neighbourhood of campā and friend of dhṛtarāṣṭra husband of rādhā and foster father of karṇa, whom he called vasuṣeṇa and sent to hāstinapura to be instructed by droṇa  at the show of arms he enters the arena to congratulate karṇa as king of aṅga     ',\n",
       " 'ahaṃyāti, a king, son of saṃyāti and father of sārvabhauma ',\n",
       " 'anala1, one of the eight vasus, son of prajāpati  or dharma  and śāṇḍilī, and father of skanda',\n",
       " ' hiraṇyakaśipu, who was the father of mandāra, irresistible even to viṣṇus discus sudarśana  śiva had further granted boons to the dānavas  vidyutprabha, śatamukha, and to brahmán, etc',\n",
       " 'aṣṭaka   yayāti, who was the maternal grandfather of a discoursed with him on haughtiness, etc and told him his own history yayāti spoke to a',\n",
       " 'aurva   son of cyavana and āruṣī and father of ṛcīka, ',\n",
       " 'āyunāthānaraṇyenakṛṣṇason of purūravas and father of nahuṣaānuśāsan',\n",
       " ' b, kṛṣṇa vāsudevamarried to ilā and father of purūravasānuśāsanik',\n",
       " 'cikura, a serpent, father of the serpent sumukha ',\n",
       " 'citraratha5, the great grandfather of kṛṣṇa',\n",
       " 'śailālaya, an ancient king, grandfather of bhagadatta ',\n",
       " 'śaktri, a ṛṣi, son of vasiṣṭha and father of parāśara     ',\n",
       " 'śalya, king of the madras, brother of mādrī, the wife of pāṇḍu, and father of rukmaratha                                                ʹ, ',\n",
       " 'śamīka1, a muni, father of śṛṅgin   ',\n",
       " 'śāntanu, son of pratīpa and father of bhīṣma, citrāṅgada, and vicitravīrya                   ',\n",
       " 'śikhaṇḍin1, son  of the pāñcāla king drupada, and father of kṣattradeva                                        ʹ, ʹ, ʹ, ʹ, ʹ, ',\n",
       " 'śini1, father of satyaka and grandfather of sātyaki ',\n",
       " ' names2sutāṃidentified with nārāyaṇarudraḥ names2clad in skinsfather of kumāra, i',\n",
       " 'śūra2, a yādava, father of vasudeva and kuntī    ',\n",
       " 'daśaratha, king of ayodhyā and father of rāma',\n",
       " 'dilīpa1, an ancient king, the father of bhagīratha       ',\n",
       " 'droṇa, the preceptor of the dhārtarāṣṭras and the pāṇḍavas, dhṛṣṭadyumna, etc son of bharadvāja, husband of kṛpī, and father of aśvatthāman     ',\n",
       " 'drupada, king of the pāñcālas, son of pṛṣata, father of dhṛṣṭadyumna, śikhaṇḍin, draupadī, etc    ',\n",
       " 'duṣyanta1, an ancient king, the husband of śakuntalā and the father of bharata ',\n",
       " 'dyumatsena, king of the śālvas, husband of śaibyā, and father of satyavat    ',\n",
       " 'gādhi or gādhin, a king of kānyakubja, the son of kuśika and the father of viśvāmitra and satyavatī    ',\n",
       " 'gāndhārarāja3 = the father of gāndhārī, the wife of kṛṣṇa, ',\n",
       " 'gavalgana, the father of the sūta sañjaya ',\n",
       " ' sañjaya related droṇa slew the kaikeyas and the sons of dhṛṣṭadyumna, etc and śibi duryodhana sent droṇa a driver for his chariot the kaliṅga prince attacked bhīma  and was slain by bhīma with his bare fiststhe brother of the kaliṅga prince, viśokaidescription of his chariotpage3 a, the father of somadatta the brother of karṇa  with the vāyavya weapon, abaning yudhiṣṭhira, pāñcālas, etc rallying the troops, page3 b, with white steeds of the sindhu breedbāhlīkas son, description, advancing against droṇaadvancing in order to get at droṇaadvancing against droṇaadvancing in order to slay droṇaadvancing in order to slay droṇa, ascending śatānīkas chariotwith terrible looking piśācas of equine faces yoked to his chariot description kṛṣṇa, dhārtarāṣṭrapage3 a dhārtarāṣṭra, proceeding towards droṇaśikhaṇḍin was carried away by his charioteerdescription, the pāñcālas and pāṇḍavas in order to rescue droṇain order to rescue dhṛṣṭadyumnaalso duḥśāsana, etc having mounted the chariot of kṛtavarman his son ulūka, especially droṇa and karṇaespecially yudhiṣṭhiradescription, and the sṛñjayasdescriptionand kṛṣṇawho had celestial weapons, as also those used by rā',\n",
       " 'haryaśva2, king of the kāśis, father of sudeva and grand father of divodāsa',\n",
       " ' b, gireḥ, father of umā, whom he bestowed upon śivabhṛgu therefore cursed h that it should have no gems, ',\n",
       " 'hiraṇyadhanus, king of the niṣādas and father of ekalavya ',\n",
       " 'hṛdika, father of kṛtavarman ',\n",
       " 'the son of manu and the father of sons, among whom daśāśva was the tenthānuśāsanik',\n",
       " ' droṇaṃir ivāsurānśakrasyadeveśavāsavaṃśakraṃfather of arjunasūryaupratimatejasaḥsamaḥ, sc',\n",
       " 'jamadagni, a ṛṣi, the son of ṛcīka and satyavatī and the father of rāma1     ',\n",
       " 'jaratkāru1, a ṛṣi, husband of jaratkāru and father of āstīka',\n",
       " 'kāśipati1, the father of ambā, ambikā, and ambālikā   ',\n",
       " 'kāśirāja2, the father of ambā, ambikā, and ambālikā  ',\n",
       " 'kāśirāja3, the father of the two wives of bṛhadratha ',\n",
       " 'kāśya1, the father of ambā, ambikā, and ambālikā  ',\n",
       " 'kahoḍa, a brahman, father of aṣṭāvakra ',\n",
       " 'kāmboja2 = the father of sudakṣiṇa ',\n",
       " 'kāmbojarāja3 = the father of sudakṣiṇa ',\n",
       " 'karandhama, an ancient king, grandfather of marutta   ',\n",
       " 'khanīnetra, a king, son of viviṃśa and father of suvarcas',\n",
       " 'kṛṣṇa1, son of vasudeva and devakī, husband of rukmiṇī, etc and father of pradyumna, śāmba, etc a prince of the dāśārhas, considered as an avatāra of viṣṇu, the supreme god                  ',\n",
       " 'kuntibhoja, name of the ative father of kuntī, and of the  brother of kuntī                       ',\n",
       " 'lomaharṣaṇa, a sūta, father of ugraśravas   ',\n",
       " 'lomapāda, king of the aṅgas and father of śāntā ',\n",
       " 'madreśvara1  = the father of mādrī, ',\n",
       " 'manu1, father of the human race, one or more prajāpatis   bis      ',\n",
       " 'prajāpateḥ, father of ikṣvākuānuśāsanik',\n",
       " 'marīci1, a ṛṣi, son of brahmán and father of kaśyapa      ',\n",
       " 'nahuṣa2, an ancient king, son of āyus and father of yayāti, etc for some time king of the gods, but cursed and born as a serpent  ',\n",
       " 'hariḥ, = kṛṣṇa= = hariṃ = nparaṃ brahma nparaṃ tapaḥ npara devaḥ sarvaṃ naḥ sadā= kṛṣṇadevaḥ, father of virajasgītaṃ, a sentence of his  quotedviṣṇuṃ',\n",
       " 'nimi2, son of dattātreya and father of śrīmat ',\n",
       " 'pāṇḍu, son of vyāsa by ambālikā, the wi of vicitravīrya husband of kuntī and mādrī and father of the five pāṇḍavas            ',\n",
       " 'parāśara1, a ṛṣi, son of śakti and adṛśyantī, and father of vyāsa    ',\n",
       " 'parikṣit or parīkṣit, son of abhimanyu and uttarā, and father of janamejaya ',\n",
       " 'prajāpati2, the father of the vasus ',\n",
       " 'pramati, a ṛṣi, father of ruru       ',\n",
       " 'pṛṣata, king of the pāñcālas, father of drupadadrupadafriend of bharadvājafather of drupadacaitrarathap',\n",
       " 'raibhya, a brahman, father of arvāvasu and parāvasu  ',\n",
       " 'ṛcīka2, a ṛṣi, son or descendant of bhṛgu, and father of jamadagni and śunaḥśepha      ',\n",
       " 'saha2, name of a fire father of adbhuta ',\n",
       " ' was the grandfather of śatayūpa, resigning his king to his eldest son, he retired into the woods and after great penances attained to the region of indra, where have often seen him, ',\n",
       " 'saṃvaraṇa, a king, son of ṛkṣa, husband of tapatī, and father of kuru ',\n",
       " 'satyaka, a vṛṣṇi, son of śini and father of sātyaki      ',\n",
       " 'sṛñjaya3, father of suvarṇaṣṭhīvin',\n",
       " 'subala2, king of the gāndhāras and father of śakuni and gāndhārī         ',\n",
       " 'suratha3, the father of koṭikāsya ',\n",
       " ' having, at the command of lomaśa, bathed in nandā, they proceeded to the river kauśikī  with the hermitages of viśvāmitra and of kāśyapa, the father of ṛṣyaśṛṅga ',\n",
       " 'ugrasena6, king of the vṛṣṇis, father of kaṃsa     ',\n",
       " 'vaidarbha, the father of lopāmudrā ',\n",
       " 'vaidarbhi, the father of lopāmudrā ',\n",
       " 'vasiṣṭha, a ṛṣi, son of varuṇa, one of the saptarṣis, husband of arundhatī, father of śakti and grandfather of parāśara',\n",
       " 'vasu3, a brahman, father of paila ',\n",
       " '  paitāmaha manu  was father of prajāpati, whose sons were the eight vasus',\n",
       " 'vasudeva, son of śūra, husband of devakī, etc father of kṛṣṇa, etc     ',\n",
       " 'prītir asyā gninā yathāo vā vahed meruṃagny anilendu bhānavaḥmano mraṃhasāfather of bhīmasenafather of bhīmasenanāvaṃ',\n",
       " 'vibhāṇḍaka, a ṛṣi, father of ṛṣyaśṛṅga ',\n",
       " 'vidarbharāja2, the father of lopāmudrā ',\n",
       " 'vīradyumna, a king, father of bhūridyumna ',\n",
       " 'vīrasena, king of the niṣadhas, father of nala   ',\n",
       " 'virāta, king of the matsyas, husband of sudeṣṇā, father of  śaṅkha, uttara, and uttarā                                                           ',\n",
       " ' in kāśi was king haryaśva, the grandfather of divodāsa',\n",
       " ' b, to dvitīyajanmany aṇḍasaṃjñitasya mārtaṇḍo ān śrāddhadevaḥ, son of aditi and born from an eggmārtaṇḍasya, father of the aśvins who came out of the nostrils of his wife sañjñā',\n",
       " 'vṛddhakṣatra1, king of the sindhus, father of jayadratha  ',\n",
       " 'vyāsa, a ṛṣi, the supposed compiler of mhbhr son of parāśara and satyavatī, father of śuka, and, with the wives of vicitravīrya, of dhṛtarāṣṭra, pāṇḍu, and vidura his proper name is kṛṣṇa, and on account of his being born on an island  he is called dvaipāyana  and kṛṣṇa dvaipāyana  he arranged the vedas, ']"
      ]
     },
     "execution_count": 16,
     "metadata": {},
     "output_type": "execute_result"
    }
   ],
   "source": [
    "sents = extract_rel_window(texts,[\"father of\"])\n",
    "sents = [sent.lower() for sent in sents]\n",
    "sents"
   ]
  },
  {
   "cell_type": "markdown",
   "id": "ae962e6a",
   "metadata": {},
   "source": [
    "## Removing trailing commas and putting a full stop"
   ]
  },
  {
   "cell_type": "code",
   "execution_count": 17,
   "id": "b29ea4e0",
   "metadata": {
    "execution": {
     "iopub.execute_input": "2024-04-23T13:03:12.737878Z",
     "iopub.status.busy": "2024-04-23T13:03:12.737465Z",
     "iopub.status.idle": "2024-04-23T13:03:12.754503Z",
     "shell.execute_reply": "2024-04-23T13:03:12.753300Z",
     "shell.execute_reply.started": "2024-04-23T13:03:12.737850Z"
    }
   },
   "outputs": [
    {
     "name": "stdout",
     "output_type": "stream",
     "text": [
      "[nltk_data] Downloading package wordnet to /usr/share/nltk_data...\n",
      "[nltk_data]   Package wordnet is already up-to-date!\n"
     ]
    }
   ],
   "source": [
    "def remove_before_last_alphabet(sentence):\n",
    "    # Find the index of the last alphabet\n",
    "    last_alpha_index = None\n",
    "    for i in range(len(sentence) - 1, -1, -1):\n",
    "        if sentence[i].isalpha():\n",
    "            last_alpha_index = i\n",
    "            break\n",
    "    \n",
    "    # Remove everything before the last alphabet\n",
    "    if last_alpha_index is not None:\n",
    "        sentence = sentence[0:last_alpha_index+1]\n",
    "    \n",
    "    # Add a full stop at the end\n",
    "    sentence = sentence.strip() + \".\"\n",
    "    \n",
    "    return sentence\n",
    "\n",
    "def assign_token_ids(sent):\n",
    "    # Initialize an empty list to store token information\n",
    "    tokens = []\n",
    "\n",
    "    # Iterate over each token in the sentence\n",
    "    for i, (word, head, rel) in enumerate(zip(sent.words, sent.arcs, sent.rels), start=1):\n",
    "        # Extract relevant information from each token\n",
    "        token_info = {\n",
    "            \"id\": i,\n",
    "            \"word\": word,\n",
    "            \"head\": head,\n",
    "            \"rel\": rel,\n",
    "        }\n",
    "        tokens.append(token_info)\n",
    "\n",
    "    return tokens\n",
    "\n",
    "import nltk\n",
    "nltk.download('wordnet')\n",
    "\n",
    "from nltk.corpus import wordnet\n",
    "\n",
    "def is_english_word(word):\n",
    "    # Check if the word is in WordNet's list of English words\n",
    "    return wordnet.synsets(word) != []\n",
    "\n",
    "def transliterate_to_latin(word):\n",
    "    iast_mapping = {\n",
    "        'á': 'aa',\n",
    "        'ñ': 'n',\n",
    "        'ā': 'aa',\n",
    "        'ă': 'aa',\n",
    "        'ī': 'i',\n",
    "        'ĭ': 'i',\n",
    "        'Ś': 'sh',\n",
    "        'ś': 'sh',\n",
    "        'Ū': 'u',\n",
    "        'ū': 'u',\n",
    "        'ḍ': 'd',\n",
    "        'Ḣ': '',\n",
    "        'ḥ': '',\n",
    "        'ṃ': 'm',\n",
    "        'ṅ': 'n',\n",
    "        'ṇ': 'n',\n",
    "        'ṛ': 'ri',\n",
    "        'ṝ': 'ri',\n",
    "        'ṣ': 'sh',\n",
    "        'ṭ': 't'\n",
    "    }\n",
    "\n",
    "    latin_word = ''\n",
    "    for char in word:\n",
    "        if char in iast_mapping:\n",
    "            latin_word += iast_mapping[char]\n",
    "        else:\n",
    "            latin_word += char\n",
    "    return latin_word\n",
    "\n",
    "\n",
    "\n"
   ]
  },
  {
   "cell_type": "markdown",
   "id": "10e83cda",
   "metadata": {},
   "source": [
    "# Dependency parsing trials - **FATHER**"
   ]
  },
  {
   "cell_type": "code",
   "execution_count": 18,
   "id": "5ea55c6b",
   "metadata": {
    "execution": {
     "iopub.execute_input": "2024-04-23T13:03:14.569562Z",
     "iopub.status.busy": "2024-04-23T13:03:14.568773Z",
     "iopub.status.idle": "2024-04-23T13:03:20.686928Z",
     "shell.execute_reply": "2024-04-23T13:03:20.685411Z",
     "shell.execute_reply.started": "2024-04-23T13:03:14.569522Z"
    }
   },
   "outputs": [],
   "source": [
    "from diaparser.parsers import Parser"
   ]
  },
  {
   "cell_type": "code",
   "execution_count": 19,
   "id": "fde7cbfd",
   "metadata": {
    "execution": {
     "iopub.execute_input": "2024-04-23T13:03:36.261647Z",
     "iopub.status.busy": "2024-04-23T13:03:36.260822Z",
     "iopub.status.idle": "2024-04-23T13:03:51.835643Z",
     "shell.execute_reply": "2024-04-23T13:03:51.834664Z",
     "shell.execute_reply.started": "2024-04-23T13:03:36.261610Z"
    }
   },
   "outputs": [
    {
     "name": "stderr",
     "output_type": "stream",
     "text": [
      "Downloading: \"https://github.com/Unipisa/diaparser/releases/download/v1.0/en_ewt.electra-base\" to /root/.cache/diaparser/en_ewt.electra-base\n",
      "100%|██████████| 452M/452M [00:06<00:00, 72.5MB/s] \n"
     ]
    },
    {
     "data": {
      "application/vnd.jupyter.widget-view+json": {
       "model_id": "8ca3baa838cd49c6908c0fceb656a4a5",
       "version_major": 2,
       "version_minor": 0
      },
      "text/plain": [
       "config.json:   0%|          | 0.00/666 [00:00<?, ?B/s]"
      ]
     },
     "metadata": {},
     "output_type": "display_data"
    },
    {
     "data": {
      "application/vnd.jupyter.widget-view+json": {
       "model_id": "a8d13bd7127a43dba5845033b98851c5",
       "version_major": 2,
       "version_minor": 0
      },
      "text/plain": [
       "pytorch_model.bin:   0%|          | 0.00/440M [00:00<?, ?B/s]"
      ]
     },
     "metadata": {},
     "output_type": "display_data"
    },
    {
     "name": "stderr",
     "output_type": "stream",
     "text": [
      "/opt/conda/lib/python3.10/site-packages/torch/_utils.py:831: UserWarning: TypedStorage is deprecated. It will be removed in the future and UntypedStorage will be the only storage class. This should only matter to you if you are using storages directly.  To access UntypedStorage directly, use tensor.untyped_storage() instead of tensor.storage()\n",
      "  return self.fget.__get__(instance, owner)()\n"
     ]
    },
    {
     "data": {
      "application/vnd.jupyter.widget-view+json": {
       "model_id": "e09510e66fb44f96ae70d8f413417112",
       "version_major": 2,
       "version_minor": 0
      },
      "text/plain": [
       "tokenizer_config.json:   0%|          | 0.00/48.0 [00:00<?, ?B/s]"
      ]
     },
     "metadata": {},
     "output_type": "display_data"
    },
    {
     "data": {
      "application/vnd.jupyter.widget-view+json": {
       "model_id": "5ed85137f0e142668c53fecfc5aca2b2",
       "version_major": 2,
       "version_minor": 0
      },
      "text/plain": [
       "vocab.txt:   0%|          | 0.00/232k [00:00<?, ?B/s]"
      ]
     },
     "metadata": {},
     "output_type": "display_data"
    },
    {
     "data": {
      "application/vnd.jupyter.widget-view+json": {
       "model_id": "fa785eec8b0849718e96c6b0daf66bf0",
       "version_major": 2,
       "version_minor": 0
      },
      "text/plain": [
       "tokenizer.json:   0%|          | 0.00/466k [00:00<?, ?B/s]"
      ]
     },
     "metadata": {},
     "output_type": "display_data"
    }
   ],
   "source": [
    "parser = Parser.load('en_ewt.electra-base')"
   ]
  },
  {
   "cell_type": "code",
   "execution_count": 20,
   "id": "69b9345d",
   "metadata": {
    "execution": {
     "iopub.execute_input": "2024-04-23T13:03:51.838255Z",
     "iopub.status.busy": "2024-04-23T13:03:51.837706Z",
     "iopub.status.idle": "2024-04-23T13:03:53.754724Z",
     "shell.execute_reply": "2024-04-23T13:03:53.753825Z",
     "shell.execute_reply.started": "2024-04-23T13:03:51.838213Z"
    }
   },
   "outputs": [
    {
     "name": "stderr",
     "output_type": "stream",
     "text": [
      "/opt/conda/lib/python3.10/site-packages/torch/nn/modules/rnn.py:28: UserWarning: apply_permutation is deprecated, please use tensor.index_select(dim, permutation) instead\n",
      "  warnings.warn(\"apply_permutation is deprecated, please use tensor.index_select(dim, permutation) instead\")\n"
     ]
    },
    {
     "data": {
      "text/plain": [
       "# sent_id = 1\n",
       "# text = Aśvapati2, a king of the Madras, father of Sāvitrī,\n",
       "1\tAśvapati2\t_\t_\t_\t_\t0\troot\t_\t_\n",
       "2\t,\t_\t_\t_\t_\t1\tpunct\t_\t_\n",
       "3\ta\t_\t_\t_\t_\t4\tdet\t_\t_\n",
       "4\tking\t_\t_\t_\t_\t1\tappos\t_\t_\n",
       "5\tof\t_\t_\t_\t_\t7\tcase\t_\t_\n",
       "6\tthe\t_\t_\t_\t_\t7\tdet\t_\t_\n",
       "7\tMadras\t_\t_\t_\t_\t4\tnmod\t_\t_\n",
       "8\t,\t_\t_\t_\t_\t4\tpunct\t_\t_\n",
       "9\tfather\t_\t_\t_\t_\t4\tconj\t_\t_\n",
       "10\tof\t_\t_\t_\t_\t11\tcase\t_\t_\n",
       "11\tSāvitrī\t_\t_\t_\t_\t9\tnmod\t_\t_\n",
       "12\t,\t_\t_\t_\t_\t1\tpunct\t_\t_"
      ]
     },
     "execution_count": 20,
     "metadata": {},
     "output_type": "execute_result"
    }
   ],
   "source": [
    "text = \"Aśvapati2, a king of the Madras, father of Sāvitrī,\"\n",
    "dataset = parser.predict(text, text='en')\n",
    "dataset.sentences[0]"
   ]
  },
  {
   "cell_type": "code",
   "execution_count": 21,
   "id": "b3c90f7f",
   "metadata": {
    "execution": {
     "iopub.execute_input": "2024-04-23T13:03:53.756974Z",
     "iopub.status.busy": "2024-04-23T13:03:53.756551Z",
     "iopub.status.idle": "2024-04-23T13:03:54.288684Z",
     "shell.execute_reply": "2024-04-23T13:03:54.287423Z",
     "shell.execute_reply.started": "2024-04-23T13:03:53.756943Z"
    }
   },
   "outputs": [
    {
     "data": {
      "text/plain": [
       "# sent_id = 1\n",
       "# text = Aśvapati2, a king of the Madras, father of Sāvitrī.\n",
       "1\tAśvapati2\t_\t_\t_\t_\t0\troot\t_\t_\n",
       "2\t,\t_\t_\t_\t_\t1\tpunct\t_\t_\n",
       "3\ta\t_\t_\t_\t_\t4\tdet\t_\t_\n",
       "4\tking\t_\t_\t_\t_\t1\tappos\t_\t_\n",
       "5\tof\t_\t_\t_\t_\t7\tcase\t_\t_\n",
       "6\tthe\t_\t_\t_\t_\t7\tdet\t_\t_\n",
       "7\tMadras\t_\t_\t_\t_\t4\tnmod\t_\t_\n",
       "8\t,\t_\t_\t_\t_\t4\tpunct\t_\t_\n",
       "9\tfather\t_\t_\t_\t_\t1\tappos\t_\t_\n",
       "10\tof\t_\t_\t_\t_\t11\tcase\t_\t_\n",
       "11\tSāvitrī\t_\t_\t_\t_\t9\tnmod\t_\t_\n",
       "12\t.\t_\t_\t_\t_\t1\tpunct\t_\t_"
      ]
     },
     "execution_count": 21,
     "metadata": {},
     "output_type": "execute_result"
    }
   ],
   "source": [
    "text = \"Aśvapati2, a king of the Madras, father of Sāvitrī.\"\n",
    "dataset = parser.predict(text, text='en')\n",
    "dataset.sentences[0]"
   ]
  },
  {
   "cell_type": "code",
   "execution_count": 22,
   "id": "c7a7fc15",
   "metadata": {
    "execution": {
     "iopub.execute_input": "2024-04-23T13:03:54.292044Z",
     "iopub.status.busy": "2024-04-23T13:03:54.291675Z",
     "iopub.status.idle": "2024-04-23T13:03:54.673595Z",
     "shell.execute_reply": "2024-04-23T13:03:54.672427Z",
     "shell.execute_reply.started": "2024-04-23T13:03:54.292014Z"
    }
   },
   "outputs": [
    {
     "data": {
      "text/plain": [
       "# sent_id = 1\n",
       "# text = Ahaṃyāti, a king, son of Saṃyāti and father of Sārvabhauma.\n",
       "1\tAhaṃyāti\t_\t_\t_\t_\t0\troot\t_\t_\n",
       "2\t,\t_\t_\t_\t_\t1\tpunct\t_\t_\n",
       "3\ta\t_\t_\t_\t_\t4\tdet\t_\t_\n",
       "4\tking\t_\t_\t_\t_\t1\tappos\t_\t_\n",
       "5\t,\t_\t_\t_\t_\t1\tpunct\t_\t_\n",
       "6\tson\t_\t_\t_\t_\t1\tappos\t_\t_\n",
       "7\tof\t_\t_\t_\t_\t8\tcase\t_\t_\n",
       "8\tSaṃyāti\t_\t_\t_\t_\t6\tnmod\t_\t_\n",
       "9\tand\t_\t_\t_\t_\t10\tcc\t_\t_\n",
       "10\tfather\t_\t_\t_\t_\t8\tconj\t_\t_\n",
       "11\tof\t_\t_\t_\t_\t12\tcase\t_\t_\n",
       "12\tSārvabhauma\t_\t_\t_\t_\t10\tnmod\t_\t_\n",
       "13\t.\t_\t_\t_\t_\t4\tpunct\t_\t_"
      ]
     },
     "execution_count": 22,
     "metadata": {},
     "output_type": "execute_result"
    }
   ],
   "source": [
    "text = \"Ahaṃyāti, a king, son of Saṃyāti and father of Sārvabhauma.\"\n",
    "dataset = parser.predict(text, text='en')\n",
    "dataset.sentences[0]"
   ]
  },
  {
   "cell_type": "code",
   "execution_count": 23,
   "id": "6785ee2e",
   "metadata": {
    "execution": {
     "iopub.execute_input": "2024-04-23T13:03:54.675894Z",
     "iopub.status.busy": "2024-04-23T13:03:54.675217Z",
     "iopub.status.idle": "2024-04-23T13:03:55.217538Z",
     "shell.execute_reply": "2024-04-23T13:03:55.216626Z",
     "shell.execute_reply.started": "2024-04-23T13:03:54.675854Z"
    }
   },
   "outputs": [
    {
     "data": {
      "text/plain": [
       "# sent_id = 1\n",
       "# text = Aurva son of Cyavana and Āruṣī and father of Ṛcīka,\n",
       "1\tAurva\t_\t_\t_\t_\t0\troot\t_\t_\n",
       "2\tson\t_\t_\t_\t_\t1\tappos\t_\t_\n",
       "3\tof\t_\t_\t_\t_\t4\tcase\t_\t_\n",
       "4\tCyavana\t_\t_\t_\t_\t2\tnmod\t_\t_\n",
       "5\tand\t_\t_\t_\t_\t6\tcc\t_\t_\n",
       "6\tĀruṣī\t_\t_\t_\t_\t4\tconj\t_\t_\n",
       "7\tand\t_\t_\t_\t_\t8\tcc\t_\t_\n",
       "8\tfather\t_\t_\t_\t_\t1\tconj\t_\t_\n",
       "9\tof\t_\t_\t_\t_\t10\tcase\t_\t_\n",
       "10\tṚcīka\t_\t_\t_\t_\t8\tnmod\t_\t_\n",
       "11\t,\t_\t_\t_\t_\t1\tpunct\t_\t_"
      ]
     },
     "execution_count": 23,
     "metadata": {},
     "output_type": "execute_result"
    }
   ],
   "source": [
    "text = \"Aurva son of Cyavana and Āruṣī and father of Ṛcīka, \"\n",
    "dataset = parser.predict(text, text='en')\n",
    "dataset.sentences[0]"
   ]
  },
  {
   "cell_type": "code",
   "execution_count": 24,
   "id": "928209a1",
   "metadata": {
    "execution": {
     "iopub.execute_input": "2024-04-23T13:03:55.219573Z",
     "iopub.status.busy": "2024-04-23T13:03:55.218913Z",
     "iopub.status.idle": "2024-04-23T13:03:55.793876Z",
     "shell.execute_reply": "2024-04-23T13:03:55.792622Z",
     "shell.execute_reply.started": "2024-04-23T13:03:55.219522Z"
    }
   },
   "outputs": [
    {
     "data": {
      "text/plain": [
       "# sent_id = 1\n",
       "# text = Cikura, a serpent, father of the serpent Sumukha .\n",
       "1\tCikura\t_\t_\t_\t_\t0\troot\t_\t_\n",
       "2\t,\t_\t_\t_\t_\t1\tpunct\t_\t_\n",
       "3\ta\t_\t_\t_\t_\t4\tdet\t_\t_\n",
       "4\tserpent\t_\t_\t_\t_\t1\tappos\t_\t_\n",
       "5\t,\t_\t_\t_\t_\t1\tpunct\t_\t_\n",
       "6\tfather\t_\t_\t_\t_\t1\tappos\t_\t_\n",
       "7\tof\t_\t_\t_\t_\t9\tcase\t_\t_\n",
       "8\tthe\t_\t_\t_\t_\t9\tdet\t_\t_\n",
       "9\tserpent\t_\t_\t_\t_\t6\tnmod\t_\t_\n",
       "10\tSumukha\t_\t_\t_\t_\t9\tappos\t_\t_\n",
       "11\t.\t_\t_\t_\t_\t1\tpunct\t_\t_"
      ]
     },
     "execution_count": 24,
     "metadata": {},
     "output_type": "execute_result"
    }
   ],
   "source": [
    "text = \"Cikura, a serpent, father of the serpent Sumukha .\"\n",
    "dataset = parser.predict(text, text='en')\n",
    "dataset.sentences[0]"
   ]
  },
  {
   "cell_type": "code",
   "execution_count": 25,
   "id": "ae0dd48e",
   "metadata": {
    "execution": {
     "iopub.execute_input": "2024-04-23T13:03:55.796288Z",
     "iopub.status.busy": "2024-04-23T13:03:55.795548Z",
     "iopub.status.idle": "2024-04-23T13:03:56.461928Z",
     "shell.execute_reply": "2024-04-23T13:03:56.460653Z",
     "shell.execute_reply.started": "2024-04-23T13:03:55.796249Z"
    }
   },
   "outputs": [
    {
     "data": {
      "text/plain": [
       "# sent_id = 1\n",
       "# text = Hiraṇyakaśipu, who was the father of mandāra, irresistible even to viṣṇus discus sudarśana śiva had further granted boons to the dānavas vidyutprabha, śatamukha, and to brahmán, etc.\n",
       "1\tHiraṇyakaśipu\t_\t_\t_\t_\t19\tnsubj\t_\t_\n",
       "2\t,\t_\t_\t_\t_\t1\tpunct\t_\t_\n",
       "3\twho\t_\t_\t_\t_\t6\tnsubj\t_\t_\n",
       "4\twas\t_\t_\t_\t_\t6\tcop\t_\t_\n",
       "5\tthe\t_\t_\t_\t_\t6\tdet\t_\t_\n",
       "6\tfather\t_\t_\t_\t_\t1\tacl:relcl\t_\t_\n",
       "7\tof\t_\t_\t_\t_\t8\tcase\t_\t_\n",
       "8\tmandāra\t_\t_\t_\t_\t6\tnmod\t_\t_\n",
       "9\t,\t_\t_\t_\t_\t10\tpunct\t_\t_\n",
       "10\tirresistible\t_\t_\t_\t_\t6\tamod\t_\t_\n",
       "11\teven\t_\t_\t_\t_\t14\tadvmod\t_\t_\n",
       "12\tto\t_\t_\t_\t_\t14\tcase\t_\t_\n",
       "13\tviṣṇus\t_\t_\t_\t_\t14\tcompound\t_\t_\n",
       "14\tdiscus\t_\t_\t_\t_\t10\tobl\t_\t_\n",
       "15\tsudarśana\t_\t_\t_\t_\t19\tnsubj\t_\t_\n",
       "16\tśiva\t_\t_\t_\t_\t15\tflat\t_\t_\n",
       "17\thad\t_\t_\t_\t_\t19\taux\t_\t_\n",
       "18\tfurther\t_\t_\t_\t_\t19\tadvmod\t_\t_\n",
       "19\tgranted\t_\t_\t_\t_\t0\troot\t_\t_\n",
       "20\tboons\t_\t_\t_\t_\t19\tobj\t_\t_\n",
       "21\tto\t_\t_\t_\t_\t24\tcase\t_\t_\n",
       "22\tthe\t_\t_\t_\t_\t24\tdet\t_\t_\n",
       "23\tdānavas\t_\t_\t_\t_\t24\tcompound\t_\t_\n",
       "24\tvidyutprabha\t_\t_\t_\t_\t19\tobl\t_\t_\n",
       "25\t,\t_\t_\t_\t_\t26\tpunct\t_\t_\n",
       "26\tśatamukha\t_\t_\t_\t_\t24\tconj\t_\t_\n",
       "27\t,\t_\t_\t_\t_\t30\tpunct\t_\t_\n",
       "28\tand\t_\t_\t_\t_\t30\tcc\t_\t_\n",
       "29\tto\t_\t_\t_\t_\t30\tcase\t_\t_\n",
       "30\tbrahmán\t_\t_\t_\t_\t24\tconj\t_\t_\n",
       "31\t,\t_\t_\t_\t_\t32\tpunct\t_\t_\n",
       "32\tetc.\t_\t_\t_\t_\t24\tconj\t_\t_"
      ]
     },
     "execution_count": 25,
     "metadata": {},
     "output_type": "execute_result"
    }
   ],
   "source": [
    "text = \"Hiraṇyakaśipu, who was the father of mandāra, irresistible even to viṣṇus discus sudarśana śiva had further granted boons to the dānavas vidyutprabha, śatamukha, and to brahmán, etc. \"\n",
    "dataset = parser.predict(text, text='en')\n",
    "dataset.sentences[0]"
   ]
  },
  {
   "cell_type": "code",
   "execution_count": 26,
   "id": "25247071",
   "metadata": {
    "execution": {
     "iopub.execute_input": "2024-04-23T13:03:56.464325Z",
     "iopub.status.busy": "2024-04-23T13:03:56.463250Z",
     "iopub.status.idle": "2024-04-23T13:03:57.031514Z",
     "shell.execute_reply": "2024-04-23T13:03:57.030507Z",
     "shell.execute_reply.started": "2024-04-23T13:03:56.464289Z"
    }
   },
   "outputs": [
    {
     "data": {
      "text/plain": [
       "# sent_id = 1\n",
       "# text = śūra2, a yādava, father of vasudeva and kuntī\n",
       "1\tśūra2\t_\t_\t_\t_\t0\troot\t_\t_\n",
       "2\t,\t_\t_\t_\t_\t1\tpunct\t_\t_\n",
       "3\ta\t_\t_\t_\t_\t4\tdet\t_\t_\n",
       "4\tyādava\t_\t_\t_\t_\t1\tappos\t_\t_\n",
       "5\t,\t_\t_\t_\t_\t1\tpunct\t_\t_\n",
       "6\tfather\t_\t_\t_\t_\t4\tappos\t_\t_\n",
       "7\tof\t_\t_\t_\t_\t8\tcase\t_\t_\n",
       "8\tvasudeva\t_\t_\t_\t_\t6\tnmod\t_\t_\n",
       "9\tand\t_\t_\t_\t_\t10\tcc\t_\t_\n",
       "10\tkuntī\t_\t_\t_\t_\t8\tconj\t_\t_"
      ]
     },
     "execution_count": 26,
     "metadata": {},
     "output_type": "execute_result"
    }
   ],
   "source": [
    "text = \"śūra2, a yādava, father of vasudeva and kuntī\"\n",
    "dataset = parser.predict(text, text='en')\n",
    "dataset.sentences[0]"
   ]
  },
  {
   "cell_type": "code",
   "execution_count": null,
   "id": "b554a830",
   "metadata": {},
   "outputs": [],
   "source": []
  },
  {
   "cell_type": "markdown",
   "id": "76580c4e",
   "metadata": {},
   "source": [
    "# Function to extract relations"
   ]
  },
  {
   "cell_type": "code",
   "execution_count": 30,
   "id": "a2c0b551",
   "metadata": {
    "execution": {
     "iopub.execute_input": "2024-04-23T13:09:41.000077Z",
     "iopub.status.busy": "2024-04-23T13:09:40.999563Z",
     "iopub.status.idle": "2024-04-23T13:09:41.017295Z",
     "shell.execute_reply": "2024-04-23T13:09:41.015651Z",
     "shell.execute_reply.started": "2024-04-23T13:09:41.000040Z"
    }
   },
   "outputs": [],
   "source": [
    "#TEMP\n",
    "def extract_rel(sents,rel):\n",
    "    ans_dict = []\n",
    "    my_dict = {}\n",
    "    found_relations=[]\n",
    "    \n",
    "    \n",
    "    # sentences_10 = [ \"He explained to him why kine have descended to earth In days of yore, when in the Deva yuga the Dānavas became lords of the three worlds, Aditi underwent the severest austerities and begot Viṣṇu seeing Aditi perform penances, Surabhī, the daughter of Dakṣa, also underwent austerities on Kailāsa, in yoga, standing upon one leg for, years Ṛ and M.\"]\n",
    "    \n",
    "    for sent in sents:\n",
    "        if len(sent)<5:\n",
    "            continue\n",
    "        sent = remove_before_last_alphabet(sent)\n",
    "        sent = transliterate_to_latin(sent)\n",
    "        a = assign_token_ids((parser.predict(sent, text='en')).sentences[0])\n",
    "        # finding head \n",
    "        head=\"\"\n",
    "        id=0\n",
    "        for i in a:\n",
    "    #         print(i)\n",
    "            if i['word']==rel:\n",
    "                id  = i['id']\n",
    "                head_pointer = i['head']\n",
    "                for j in a:\n",
    "                    if j['id']==head_pointer:\n",
    "                        head = j['word']\n",
    "    \n",
    "        if head==\"\":\n",
    "            continue\n",
    "            \n",
    "        # finding tail \n",
    "        tails = []\n",
    "        tail = \"\"\n",
    "        for i in range(id+1 , len(a)):\n",
    "            if a[i]['rel'] != 'nmod' or a[i]['word'] == 'king' or a[i]['word'] == 'queen':\n",
    "                tail = tail + a[i]['word'] + \" \"\n",
    "            else:\n",
    "                tails.append(tail+a[i]['word'])\n",
    "                j=i+1\n",
    "                #find multiple tails if possible:\n",
    "                while(j<len(a) and (a[j]['word'] in ['and',','] or a[j]['rel'] == 'conj')):\n",
    "                    if a[j]['word']=='and' or a[j]['word']==',':\n",
    "                        del a[j]\n",
    "                    elif a[j]['rel'] == 'conj':\n",
    "                        tails.append(a[j]['word'])\n",
    "                        j=j+1\n",
    "                    \n",
    "                break\n",
    "\n",
    "        tails = [tail for tail in tails if len(tail.split()) < 6]\n",
    "        \n",
    "        # print(head , 'father ', tail , 'text : ', sent,'\\n')\n",
    "        # found_relations.append(head + ' father ' + tail )\n",
    "\n",
    "        for tail in tails:\n",
    "            my_dict = {}\n",
    "            my_dict['head']=head\n",
    "            my_dict['relation']=rel+' of'\n",
    "            my_dict['tail']=tail\n",
    "            my_dict['text']=sent\n",
    "            ans_dict.append(my_dict)\n",
    "            \n",
    "    \n",
    "    return ans_dict    \n",
    "    \n",
    "    \n",
    "# printing answers\n",
    "\n",
    "# for i in found_relations:\n",
    "#     print(i)\n",
    "\n",
    "\n",
    "    \n",
    "    \n",
    "# print(found_relations)\n",
    "# print(ans_dict)"
   ]
  },
  {
   "cell_type": "code",
   "execution_count": 31,
   "id": "55ec8c52",
   "metadata": {
    "execution": {
     "iopub.execute_input": "2024-04-23T13:09:41.365040Z",
     "iopub.status.busy": "2024-04-23T13:09:41.364537Z",
     "iopub.status.idle": "2024-04-23T13:09:41.372985Z",
     "shell.execute_reply": "2024-04-23T13:09:41.371529Z",
     "shell.execute_reply.started": "2024-04-23T13:09:41.365006Z"
    }
   },
   "outputs": [
    {
     "data": {
      "text/plain": [
       "91"
      ]
     },
     "execution_count": 31,
     "metadata": {},
     "output_type": "execute_result"
    }
   ],
   "source": [
    "len(sents)"
   ]
  },
  {
   "cell_type": "code",
   "execution_count": 32,
   "id": "5fd58c89",
   "metadata": {
    "execution": {
     "iopub.execute_input": "2024-04-23T13:09:42.169878Z",
     "iopub.status.busy": "2024-04-23T13:09:42.169443Z",
     "iopub.status.idle": "2024-04-23T13:10:36.540510Z",
     "shell.execute_reply": "2024-04-23T13:10:36.539401Z",
     "shell.execute_reply.started": "2024-04-23T13:09:42.169847Z"
    }
   },
   "outputs": [],
   "source": [
    "rels = extract_rel(sents,\"father\")"
   ]
  },
  {
   "cell_type": "code",
   "execution_count": 36,
   "id": "0ffd5a4a",
   "metadata": {
    "execution": {
     "iopub.execute_input": "2024-04-23T13:16:07.171154Z",
     "iopub.status.busy": "2024-04-23T13:16:07.169764Z",
     "iopub.status.idle": "2024-04-23T13:16:07.199977Z",
     "shell.execute_reply": "2024-04-23T13:16:07.198449Z",
     "shell.execute_reply.started": "2024-04-23T13:16:07.171101Z"
    }
   },
   "outputs": [
    {
     "data": {
      "text/plain": [
       "[{'head': 'king',\n",
       "  'relation': 'father of',\n",
       "  'tail': 'saavitri',\n",
       "  'text': 'ashvapati2, a king of the madras, father of saavitri.'},\n",
       " {'head': 'suta',\n",
       "  'relation': 'father of',\n",
       "  'tail': 'karna',\n",
       "  'text': 'adhiratha, a suta in the neighbourhood of campaa and friend of dhritaraashtra husband of raadhaa and foster father of karna, whom he called vasushena and sent to haastinapura to be instructed by drona  at the show of arms he enters the arena to congratulate karna as king of anga.'},\n",
       " {'head': 'samyaati',\n",
       "  'relation': 'father of',\n",
       "  'tail': 'saarvabhauma',\n",
       "  'text': 'ahamyaati, a king, son of samyaati and father of saarvabhauma.'},\n",
       " {'head': 'prajaapati',\n",
       "  'relation': 'father of',\n",
       "  'tail': 'skanda',\n",
       "  'text': 'anala1, one of the eight vasus, son of prajaapati  or dharma  and shaandili, and father of skanda.'},\n",
       " {'head': 'hiranyakashipu',\n",
       "  'relation': 'father of',\n",
       "  'tail': 'mandaara',\n",
       "  'text': 'hiranyakashipu, who was the father of mandaara, irresistible even to vishnus discus sudarshana  shiva had further granted boons to the daanavas  vidyutprabha, shatamukha, and to brahmaan, etc.'},\n",
       " {'head': 'aurva',\n",
       "  'relation': 'father of',\n",
       "  'tail': 'ricika',\n",
       "  'text': 'aurva   son of cyavana and aarushi and father of ricika.'},\n",
       " {'head': 'aayunaathaanaranyenakrishnason',\n",
       "  'relation': 'father of',\n",
       "  'tail': 'nahushaaanushaasan',\n",
       "  'text': 'aayunaathaanaranyenakrishnason of pururavas and father of nahushaaanushaasan.'},\n",
       " {'head': 'ilaa',\n",
       "  'relation': 'father of',\n",
       "  'tail': 'pururavasaanushaasanik',\n",
       "  'text': 'b, krishna vaasudevamarried to ilaa and father of pururavasaanushaasanik.'},\n",
       " {'head': 'cikura',\n",
       "  'relation': 'father of',\n",
       "  'tail': 'the serpent',\n",
       "  'text': 'cikura, a serpent, father of the serpent sumukha.'},\n",
       " {'head': 'vasishtha',\n",
       "  'relation': 'father of',\n",
       "  'tail': 'paraashara',\n",
       "  'text': 'shaktri, a rishi, son of vasishtha and father of paraashara.'},\n",
       " {'head': 'shalya',\n",
       "  'relation': 'father of',\n",
       "  'tail': 'rukmaratha',\n",
       "  'text': 'shalya, king of the madras, brother of maadri, the wife of paandu, and father of rukmaratha                                                ʹ.'},\n",
       " {'head': 'muni',\n",
       "  'relation': 'father of',\n",
       "  'tail': 'shringin',\n",
       "  'text': 'shamika1, a muni, father of shringin.'},\n",
       " {'head': 'shaantanu',\n",
       "  'relation': 'father of',\n",
       "  'tail': 'bhishma',\n",
       "  'text': 'shaantanu, son of pratipa and father of bhishma, citraangada, and vicitravirya.'},\n",
       " {'head': 'shaantanu',\n",
       "  'relation': 'father of',\n",
       "  'tail': 'citraangada',\n",
       "  'text': 'shaantanu, son of pratipa and father of bhishma, citraangada, and vicitravirya.'},\n",
       " {'head': 'shaantanu',\n",
       "  'relation': 'father of',\n",
       "  'tail': 'vicitravirya',\n",
       "  'text': 'shaantanu, son of pratipa and father of bhishma, citraangada, and vicitravirya.'},\n",
       " {'head': 'son',\n",
       "  'relation': 'father of',\n",
       "  'tail': 'kshattradeva',\n",
       "  'text': 'shikhandin1, son  of the paancaala king drupada, and father of kshattradeva                                        ʹ, ʹ, ʹ, ʹ, ʹ.'},\n",
       " {'head': 'shini1',\n",
       "  'relation': 'father of',\n",
       "  'tail': 'satyaka',\n",
       "  'text': 'shini1, father of satyaka and grandfather of saatyaki.'},\n",
       " {'head': 'shini1',\n",
       "  'relation': 'father of',\n",
       "  'tail': 'grandfather',\n",
       "  'text': 'shini1, father of satyaka and grandfather of saatyaki.'},\n",
       " {'head': 'yaadava',\n",
       "  'relation': 'father of',\n",
       "  'tail': 'vasudeva',\n",
       "  'text': 'shura2, a yaadava, father of vasudeva and kunti.'},\n",
       " {'head': 'yaadava',\n",
       "  'relation': 'father of',\n",
       "  'tail': 'kunti',\n",
       "  'text': 'shura2, a yaadava, father of vasudeva and kunti.'},\n",
       " {'head': 'dasharatha',\n",
       "  'relation': 'father of',\n",
       "  'tail': 'raama',\n",
       "  'text': 'dasharatha, king of ayodhyaa and father of raama.'},\n",
       " {'head': 'dilipa1',\n",
       "  'relation': 'father of',\n",
       "  'tail': 'bhagiratha',\n",
       "  'text': 'dilipa1, an ancient king, the father of bhagiratha.'},\n",
       " {'head': 'bharadvaaja',\n",
       "  'relation': 'father of',\n",
       "  'tail': 'ashvatthaaman',\n",
       "  'text': 'drona, the preceptor of the dhaartaraashtras and the paandavas, dhrishtadyumna, etc son of bharadvaaja, husband of kripi, and father of ashvatthaaman.'},\n",
       " {'head': 'drupada',\n",
       "  'relation': 'father of',\n",
       "  'tail': 'dhrishtadyumna',\n",
       "  'text': 'drupada, king of the paancaalas, son of prishata, father of dhrishtadyumna, shikhandin, draupadi, etc.'},\n",
       " {'head': 'drupada',\n",
       "  'relation': 'father of',\n",
       "  'tail': 'shikhandin',\n",
       "  'text': 'drupada, king of the paancaalas, son of prishata, father of dhrishtadyumna, shikhandin, draupadi, etc.'},\n",
       " {'head': 'drupada',\n",
       "  'relation': 'father of',\n",
       "  'tail': 'draupadi',\n",
       "  'text': 'drupada, king of the paancaalas, son of prishata, father of dhrishtadyumna, shikhandin, draupadi, etc.'},\n",
       " {'head': 'drupada',\n",
       "  'relation': 'father of',\n",
       "  'tail': 'etc.',\n",
       "  'text': 'drupada, king of the paancaalas, son of prishata, father of dhrishtadyumna, shikhandin, draupadi, etc.'},\n",
       " {'head': 'shakuntalaa',\n",
       "  'relation': 'father of',\n",
       "  'tail': 'bharata',\n",
       "  'text': 'dushyanta1, an ancient king, the husband of shakuntalaa and the father of bharata.'},\n",
       " {'head': 'dyumatsena',\n",
       "  'relation': 'father of',\n",
       "  'tail': 'satyavat',\n",
       "  'text': 'dyumatsena, king of the shaalvas, husband of shaibyaa, and father of satyavat.'},\n",
       " {'head': 'kaanyakubja',\n",
       "  'relation': 'father of',\n",
       "  'tail': 'vishvaamitra',\n",
       "  'text': 'gaadhi or gaadhin, a king of kaanyakubja, the son of kushika and the father of vishvaamitra and satyavati.'},\n",
       " {'head': 'kaanyakubja',\n",
       "  'relation': 'father of',\n",
       "  'tail': 'satyavati',\n",
       "  'text': 'gaadhi or gaadhin, a king of kaanyakubja, the son of kushika and the father of vishvaamitra and satyavati.'},\n",
       " {'head': 'gaandhaararaaja3',\n",
       "  'relation': 'father of',\n",
       "  'tail': 'gaandhaari',\n",
       "  'text': 'gaandhaararaaja3 = the father of gaandhaari, the wife of krishna.'},\n",
       " {'head': 'gavalgana',\n",
       "  'relation': 'father of',\n",
       "  'tail': 'the suta',\n",
       "  'text': 'gavalgana, the father of the suta sanjaya.'},\n",
       " {'head': 'kaikeyas',\n",
       "  'relation': 'father of',\n",
       "  'tail': 'somadatta',\n",
       "  'text': 'sanjaya related drona slew the kaikeyas and the sons of dhrishtadyumna, etc and shibi duryodhana sent drona a driver for his chariot the kalinga prince attacked bhima  and was slain by bhima with his bare fiststhe brother of the kalinga prince, vishokaidescription of his chariotpage3 a, the father of somadatta the brother of karna  with the vaayavya weapon, abaning yudhishthira, paancaalas, etc rallying the troops, page3 b, with white steeds of the sindhu breedbaahlikas son, description, advancing against dronaadvancing in order to get at dronaadvancing against dronaadvancing in order to slay dronaadvancing in order to slay drona, ascending shataanikas chariotwith terrible looking pishaacas of equine faces yoked to his chariot description krishna, dhaartaraashtrapage3 a dhaartaraashtra, proceeding towards dronashikhandin was carried away by his charioteerdescription, the paancaalas and paandavas in order to rescue dronain order to rescue dhrishtadyumnaalso dushaasana, etc having mounted the chariot of kritavarman his son uluka, especially drona and karnaespecially yudhishthiradescription, and the srinjayasdescriptionand krishnawho had celestial weapons, as also those used by raa.'},\n",
       " {'head': 'sudeva',\n",
       "  'relation': 'father of',\n",
       "  'tail': 'divodaasa',\n",
       "  'text': 'haryashva2, king of the kaashis, father of sudeva and grand father of divodaasa.'},\n",
       " {'head': 'gire',\n",
       "  'relation': 'father of',\n",
       "  'tail': 'umaa',\n",
       "  'text': 'b, gire, father of umaa, whom he bestowed upon shivabhrigu therefore cursed h that it should have no gems.'},\n",
       " {'head': 'hiranyadhanus',\n",
       "  'relation': 'father of',\n",
       "  'tail': 'ekalavya',\n",
       "  'text': 'hiranyadhanus, king of the nishaadas and father of ekalavya.'},\n",
       " {'head': 'hridika',\n",
       "  'relation': 'father of',\n",
       "  'tail': 'kritavarman',\n",
       "  'text': 'hridika, father of kritavarman.'},\n",
       " {'head': 'son',\n",
       "  'relation': 'father of',\n",
       "  'tail': 'sons',\n",
       "  'text': 'the son of manu and the father of sons, among whom dashaashva was the tenthaanushaasanik.'},\n",
       " {'head': 'ricika',\n",
       "  'relation': 'father of',\n",
       "  'tail': 'raama',\n",
       "  'text': 'jamadagni, a rishi, the son of ricika and satyavati and the father of raama.'},\n",
       " {'head': 'rishi',\n",
       "  'relation': 'father of',\n",
       "  'tail': 'aastika',\n",
       "  'text': 'jaratkaaru1, a rishi, husband of jaratkaaru and father of aastika.'},\n",
       " {'head': 'kaashipati1',\n",
       "  'relation': 'father of',\n",
       "  'tail': 'ambaa',\n",
       "  'text': 'kaashipati1, the father of ambaa, ambikaa, and ambaalikaa.'},\n",
       " {'head': 'kaashipati1',\n",
       "  'relation': 'father of',\n",
       "  'tail': 'ambikaa',\n",
       "  'text': 'kaashipati1, the father of ambaa, ambikaa, and ambaalikaa.'},\n",
       " {'head': 'kaashipati1',\n",
       "  'relation': 'father of',\n",
       "  'tail': 'ambaalikaa',\n",
       "  'text': 'kaashipati1, the father of ambaa, ambikaa, and ambaalikaa.'},\n",
       " {'head': 'kaashiraaja2',\n",
       "  'relation': 'father of',\n",
       "  'tail': 'ambaa',\n",
       "  'text': 'kaashiraaja2, the father of ambaa, ambikaa, and ambaalikaa.'},\n",
       " {'head': 'kaashiraaja2',\n",
       "  'relation': 'father of',\n",
       "  'tail': 'ambikaa',\n",
       "  'text': 'kaashiraaja2, the father of ambaa, ambikaa, and ambaalikaa.'},\n",
       " {'head': 'kaashiraaja2',\n",
       "  'relation': 'father of',\n",
       "  'tail': 'ambaalikaa',\n",
       "  'text': 'kaashiraaja2, the father of ambaa, ambikaa, and ambaalikaa.'},\n",
       " {'head': 'kaashiraaja3',\n",
       "  'relation': 'father of',\n",
       "  'tail': 'the two wives',\n",
       "  'text': 'kaashiraaja3, the father of the two wives of brihadratha.'},\n",
       " {'head': 'kaashya1',\n",
       "  'relation': 'father of',\n",
       "  'tail': 'ambaa',\n",
       "  'text': 'kaashya1, the father of ambaa, ambikaa, and ambaalikaa.'},\n",
       " {'head': 'kaashya1',\n",
       "  'relation': 'father of',\n",
       "  'tail': 'ambikaa',\n",
       "  'text': 'kaashya1, the father of ambaa, ambikaa, and ambaalikaa.'},\n",
       " {'head': 'kaashya1',\n",
       "  'relation': 'father of',\n",
       "  'tail': 'ambaalikaa',\n",
       "  'text': 'kaashya1, the father of ambaa, ambikaa, and ambaalikaa.'},\n",
       " {'head': 'kahoda',\n",
       "  'relation': 'father of',\n",
       "  'tail': 'ashtaavakra',\n",
       "  'text': 'kahoda, a brahman, father of ashtaavakra.'},\n",
       " {'head': 'kaamboja2',\n",
       "  'relation': 'father of',\n",
       "  'tail': 'sudakshina',\n",
       "  'text': 'kaamboja2 = the father of sudakshina.'},\n",
       " {'head': 'kaambojaraaja3',\n",
       "  'relation': 'father of',\n",
       "  'tail': 'sudakshina',\n",
       "  'text': 'kaambojaraaja3 = the father of sudakshina.'},\n",
       " {'head': 'vivimsha',\n",
       "  'relation': 'father of',\n",
       "  'tail': 'suvarcas',\n",
       "  'text': 'khaninetra, a king, son of vivimsha and father of suvarcas.'},\n",
       " {'head': 'son',\n",
       "  'relation': 'father of',\n",
       "  'tail': 'pradyumna',\n",
       "  'text': 'krishna1, son of vasudeva and devaki, husband of rukmini, etc and father of pradyumna, shaamba, etc a prince of the daashaarhas, considered as an avataara of vishnu, the supreme god.'},\n",
       " {'head': 'son',\n",
       "  'relation': 'father of',\n",
       "  'tail': 'shaamba',\n",
       "  'text': 'krishna1, son of vasudeva and devaki, husband of rukmini, etc and father of pradyumna, shaamba, etc a prince of the daashaarhas, considered as an avataara of vishnu, the supreme god.'},\n",
       " {'head': 'name',\n",
       "  'relation': 'father of',\n",
       "  'tail': 'kunti',\n",
       "  'text': 'kuntibhoja, name of the ative father of kunti, and of the  brother of kunti.'},\n",
       " {'head': 'lomaharshana',\n",
       "  'relation': 'father of',\n",
       "  'tail': 'ugrashravas',\n",
       "  'text': 'lomaharshana, a suta, father of ugrashravas.'},\n",
       " {'head': 'lomapaada',\n",
       "  'relation': 'father of',\n",
       "  'tail': 'shaantaa',\n",
       "  'text': 'lomapaada, king of the angas and father of shaantaa.'},\n",
       " {'head': 'manu1',\n",
       "  'relation': 'father of',\n",
       "  'tail': 'the human race',\n",
       "  'text': 'manu1, father of the human race, one or more prajaapatis   bis.'},\n",
       " {'head': 'prajaapate',\n",
       "  'relation': 'father of',\n",
       "  'tail': 'ikshvaakuaanushaasanik',\n",
       "  'text': 'prajaapate, father of ikshvaakuaanushaasanik.'},\n",
       " {'head': 'brahmaan',\n",
       "  'relation': 'father of',\n",
       "  'tail': 'kashyapa',\n",
       "  'text': 'marici1, a rishi, son of brahmaan and father of kashyapa.'},\n",
       " {'head': 'son',\n",
       "  'relation': 'father of',\n",
       "  'tail': 'yayaati',\n",
       "  'text': 'nahusha2, an ancient king, son of aayus and father of yayaati, etc for some time king of the gods, but cursed and born as a serpent.'},\n",
       " {'head': 'son',\n",
       "  'relation': 'father of',\n",
       "  'tail': 'etc',\n",
       "  'text': 'nahusha2, an ancient king, son of aayus and father of yayaati, etc for some time king of the gods, but cursed and born as a serpent.'},\n",
       " {'head': 'krishnadeva',\n",
       "  'relation': 'father of',\n",
       "  'tail': 'virajasgitam',\n",
       "  'text': 'hari, = krishna= = harim = nparam brahma nparam tapa npara deva sarvam na sadaa= krishnadeva, father of virajasgitam, a sentence of his  quotedvishnum.'},\n",
       " {'head': 'dattaatreya',\n",
       "  'relation': 'father of',\n",
       "  'tail': 'shrimat',\n",
       "  'text': 'nimi2, son of dattaatreya and father of shrimat.'},\n",
       " {'head': 'kunti',\n",
       "  'relation': 'father of',\n",
       "  'tail': 'the five paandavas',\n",
       "  'text': 'paandu, son of vyaasa by ambaalikaa, the wi of vicitravirya husband of kunti and maadri and father of the five paandavas.'},\n",
       " {'head': 'shakti',\n",
       "  'relation': 'father of',\n",
       "  'tail': 'vyaasa',\n",
       "  'text': 'paraashara1, a rishi, son of shakti and adrishyanti, and father of vyaasa.'},\n",
       " {'head': 'parikshit',\n",
       "  'relation': 'father of',\n",
       "  'tail': 'janamejaya',\n",
       "  'text': 'parikshit or parikshit, son of abhimanyu and uttaraa, and father of janamejaya.'},\n",
       " {'head': 'prajaapati2',\n",
       "  'relation': 'father of',\n",
       "  'tail': 'the vasus',\n",
       "  'text': 'prajaapati2, the father of the vasus.'},\n",
       " {'head': 'pramati',\n",
       "  'relation': 'father of',\n",
       "  'tail': 'ruru',\n",
       "  'text': 'pramati, a rishi, father of ruru.'},\n",
       " {'head': 'prishata',\n",
       "  'relation': 'father of',\n",
       "  'tail': 'drupadadrupadafriend',\n",
       "  'text': 'prishata, king of the paancaalas, father of drupadadrupadafriend of bharadvaajafather of drupadacaitrarathap.'},\n",
       " {'head': 'raibhya',\n",
       "  'relation': 'father of',\n",
       "  'tail': 'arvaavasu',\n",
       "  'text': 'raibhya, a brahman, father of arvaavasu and paraavasu.'},\n",
       " {'head': 'raibhya',\n",
       "  'relation': 'father of',\n",
       "  'tail': 'paraavasu',\n",
       "  'text': 'raibhya, a brahman, father of arvaavasu and paraavasu.'},\n",
       " {'head': 'rishi',\n",
       "  'relation': 'father of',\n",
       "  'tail': 'jamadagni',\n",
       "  'text': 'ricika2, a rishi, son or descendant of bhrigu, and father of jamadagni and shunashepha.'},\n",
       " {'head': 'rishi',\n",
       "  'relation': 'father of',\n",
       "  'tail': 'shunashepha',\n",
       "  'text': 'ricika2, a rishi, son or descendant of bhrigu, and father of jamadagni and shunashepha.'},\n",
       " {'head': 'name',\n",
       "  'relation': 'father of',\n",
       "  'tail': 'adbhuta',\n",
       "  'text': 'saha2, name of a fire father of adbhuta.'},\n",
       " {'head': 'king',\n",
       "  'relation': 'father of',\n",
       "  'tail': 'kuru',\n",
       "  'text': 'samvarana, a king, son of riksha, husband of tapati, and father of kuru.'},\n",
       " {'head': 'shini',\n",
       "  'relation': 'father of',\n",
       "  'tail': 'saatyaki',\n",
       "  'text': 'satyaka, a vrishni, son of shini and father of saatyaki.'},\n",
       " {'head': 'srinjaya3',\n",
       "  'relation': 'father of',\n",
       "  'tail': 'suvarnashthivin',\n",
       "  'text': 'srinjaya3, father of suvarnashthivin.'},\n",
       " {'head': 'king',\n",
       "  'relation': 'father of',\n",
       "  'tail': 'shakuni',\n",
       "  'text': 'subala2, king of the gaandhaaras and father of shakuni and gaandhaari.'},\n",
       " {'head': 'king',\n",
       "  'relation': 'father of',\n",
       "  'tail': 'gaandhaari',\n",
       "  'text': 'subala2, king of the gaandhaaras and father of shakuni and gaandhaari.'},\n",
       " {'head': 'suratha3',\n",
       "  'relation': 'father of',\n",
       "  'tail': 'kotikaasya',\n",
       "  'text': 'suratha3, the father of kotikaasya.'},\n",
       " {'head': 'kaashyapa',\n",
       "  'relation': 'father of',\n",
       "  'tail': 'rishyashringa',\n",
       "  'text': 'having, at the command of lomasha, bathed in nandaa, they proceeded to the river kaushiki  with the hermitages of vishvaamitra and of kaashyapa, the father of rishyashringa.'},\n",
       " {'head': 'ugrasena6',\n",
       "  'relation': 'father of',\n",
       "  'tail': 'kamsa',\n",
       "  'text': 'ugrasena6, king of the vrishnis, father of kamsa.'},\n",
       " {'head': 'vaidarbha',\n",
       "  'relation': 'father of',\n",
       "  'tail': 'lopaamudraa',\n",
       "  'text': 'vaidarbha, the father of lopaamudraa.'},\n",
       " {'head': 'vaidarbhi',\n",
       "  'relation': 'father of',\n",
       "  'tail': 'lopaamudraa',\n",
       "  'text': 'vaidarbhi, the father of lopaamudraa.'},\n",
       " {'head': 'varuna',\n",
       "  'relation': 'father of',\n",
       "  'tail': 'shakti',\n",
       "  'text': 'vasishtha, a rishi, son of varuna, one of the saptarshis, husband of arundhati, father of shakti and grandfather of paraashara.'},\n",
       " {'head': 'varuna',\n",
       "  'relation': 'father of',\n",
       "  'tail': 'grandfather',\n",
       "  'text': 'vasishtha, a rishi, son of varuna, one of the saptarshis, husband of arundhati, father of shakti and grandfather of paraashara.'},\n",
       " {'head': 'brahman',\n",
       "  'relation': 'father of',\n",
       "  'tail': 'paila',\n",
       "  'text': 'vasu3, a brahman, father of paila.'},\n",
       " {'head': 'vasudeva',\n",
       "  'relation': 'father of',\n",
       "  'tail': 'krishna',\n",
       "  'text': 'vasudeva, son of shura, husband of devaki, etc father of krishna, etc.'},\n",
       " {'head': 'vasudeva',\n",
       "  'relation': 'father of',\n",
       "  'tail': 'etc.',\n",
       "  'text': 'vasudeva, son of shura, husband of devaki, etc father of krishna, etc.'},\n",
       " {'head': 'vibhaandaka',\n",
       "  'relation': 'father of',\n",
       "  'tail': 'rishyashringa',\n",
       "  'text': 'vibhaandaka, a rishi, father of rishyashringa.'},\n",
       " {'head': 'vidarbharaaja2',\n",
       "  'relation': 'father of',\n",
       "  'tail': 'lopaamudraa',\n",
       "  'text': 'vidarbharaaja2, the father of lopaamudraa.'},\n",
       " {'head': 'viradyumna',\n",
       "  'relation': 'father of',\n",
       "  'tail': 'bhuridyumna',\n",
       "  'text': 'viradyumna, a king, father of bhuridyumna.'},\n",
       " {'head': 'virasena',\n",
       "  'relation': 'father of',\n",
       "  'tail': 'nala',\n",
       "  'text': 'virasena, king of the nishadhas, father of nala.'},\n",
       " {'head': 'viraata',\n",
       "  'relation': 'father of',\n",
       "  'tail': 'shankha',\n",
       "  'text': 'viraata, king of the matsyas, husband of sudeshnaa, father of  shankha, uttara, and uttaraa.'},\n",
       " {'head': 'viraata',\n",
       "  'relation': 'father of',\n",
       "  'tail': 'uttara',\n",
       "  'text': 'viraata, king of the matsyas, husband of sudeshnaa, father of  shankha, uttara, and uttaraa.'},\n",
       " {'head': 'viraata',\n",
       "  'relation': 'father of',\n",
       "  'tail': 'uttaraa',\n",
       "  'text': 'viraata, king of the matsyas, husband of sudeshnaa, father of  shankha, uttara, and uttaraa.'},\n",
       " {'head': 'eggmaartandasya',\n",
       "  'relation': 'father of',\n",
       "  'tail': 'the ashvins',\n",
       "  'text': 'b, to dvitiyajanmany andasamjnitasya maartando aan shraaddhadeva, son of aditi and born from an eggmaartandasya, father of the ashvins who came out of the nostrils of his wife sanjnaa.'},\n",
       " {'head': 'vriddhakshatra1',\n",
       "  'relation': 'father of',\n",
       "  'tail': 'jayadratha',\n",
       "  'text': 'vriddhakshatra1, king of the sindhus, father of jayadratha.'},\n",
       " {'head': 'mhbhr',\n",
       "  'relation': 'father of',\n",
       "  'tail': 'shuka',\n",
       "  'text': 'vyaasa, a rishi, the supposed compiler of mhbhr son of paraashara and satyavati, father of shuka, and, with the wives of vicitravirya, of dhritaraashtra, paandu, and vidura his proper name is krishna, and on account of his being born on an island  he is called dvaipaayana  and krishna dvaipaayana  he arranged the vedas.'}]"
      ]
     },
     "execution_count": 36,
     "metadata": {},
     "output_type": "execute_result"
    }
   ],
   "source": [
    "rels"
   ]
  },
  {
   "cell_type": "code",
   "execution_count": 37,
   "id": "2b6ebf23",
   "metadata": {
    "execution": {
     "iopub.execute_input": "2024-04-23T13:16:18.852764Z",
     "iopub.status.busy": "2024-04-23T13:16:18.852250Z",
     "iopub.status.idle": "2024-04-23T13:16:18.859201Z",
     "shell.execute_reply": "2024-04-23T13:16:18.857872Z",
     "shell.execute_reply.started": "2024-04-23T13:16:18.852727Z"
    }
   },
   "outputs": [],
   "source": [
    "import pickle\n",
    "\n",
    "with open('FATHER.pkl', 'wb') as f:\n",
    "    pickle.dump(rels, f)"
   ]
  },
  {
   "cell_type": "code",
   "execution_count": 255,
   "id": "760af164",
   "metadata": {},
   "outputs": [
    {
     "data": {
      "text/plain": [
       "# sent_id = 1\n",
       "# text = kaashya1, the father of ambaa, ambikaa, and ambaalikaa.\n",
       "1\tkaashya1\t_\t_\t_\t_\t0\troot\t_\t_\n",
       "2\t,\t_\t_\t_\t_\t1\tpunct\t_\t_\n",
       "3\tthe\t_\t_\t_\t_\t4\tdet\t_\t_\n",
       "4\tfather\t_\t_\t_\t_\t1\tappos\t_\t_\n",
       "5\tof\t_\t_\t_\t_\t6\tcase\t_\t_\n",
       "6\tambaa\t_\t_\t_\t_\t4\tnmod\t_\t_\n",
       "7\t,\t_\t_\t_\t_\t8\tpunct\t_\t_\n",
       "8\tambikaa\t_\t_\t_\t_\t6\tconj\t_\t_\n",
       "9\t,\t_\t_\t_\t_\t11\tpunct\t_\t_\n",
       "10\tand\t_\t_\t_\t_\t11\tcc\t_\t_\n",
       "11\tambaalikaa\t_\t_\t_\t_\t6\tconj\t_\t_\n",
       "12\t.\t_\t_\t_\t_\t1\tpunct\t_\t_"
      ]
     },
     "execution_count": 255,
     "metadata": {},
     "output_type": "execute_result"
    }
   ],
   "source": [
    "text = \"kaashya1, the father of ambaa, ambikaa, and ambaalikaa.\"\n",
    "dataset = parser.predict(text, text='en')\n",
    "dataset.sentences[0]"
   ]
  },
  {
   "cell_type": "code",
   "execution_count": 273,
   "id": "912eb6d6",
   "metadata": {},
   "outputs": [
    {
     "name": "stdout",
     "output_type": "stream",
     "text": [
      "['ambaa', 'ambikaa', 'ruby', 'anshul', 'vipul']\n"
     ]
    },
    {
     "data": {
      "text/plain": [
       "[{'head': 'kaashya1',\n",
       "  'relation': 'father of',\n",
       "  'tail': 'ambaa',\n",
       "  'text': 'kaashya1, the father of ambaa, ambikaa, ruby,and anshul and vipul.'},\n",
       " {'head': 'kaashya1',\n",
       "  'relation': 'father of',\n",
       "  'tail': 'ambikaa',\n",
       "  'text': 'kaashya1, the father of ambaa, ambikaa, ruby,and anshul and vipul.'},\n",
       " {'head': 'kaashya1',\n",
       "  'relation': 'father of',\n",
       "  'tail': 'ruby',\n",
       "  'text': 'kaashya1, the father of ambaa, ambikaa, ruby,and anshul and vipul.'},\n",
       " {'head': 'kaashya1',\n",
       "  'relation': 'father of',\n",
       "  'tail': 'anshul',\n",
       "  'text': 'kaashya1, the father of ambaa, ambikaa, ruby,and anshul and vipul.'},\n",
       " {'head': 'kaashya1',\n",
       "  'relation': 'father of',\n",
       "  'tail': 'vipul',\n",
       "  'text': 'kaashya1, the father of ambaa, ambikaa, ruby,and anshul and vipul.'}]"
      ]
     },
     "execution_count": 273,
     "metadata": {},
     "output_type": "execute_result"
    }
   ],
   "source": [
    "extract_rel([\"kaashya1, the father of ambaa, ambikaa, ruby,and anshul and vipul\"], \"father\")"
   ]
  },
  {
   "cell_type": "code",
   "execution_count": 278,
   "id": "4144df73",
   "metadata": {},
   "outputs": [
    {
     "name": "stdout",
     "output_type": "stream",
     "text": [
      "['arvaavasu', 'paraavasu']\n"
     ]
    },
    {
     "data": {
      "text/plain": [
       "[{'head': 'raibhya',\n",
       "  'relation': 'father of',\n",
       "  'tail': 'arvaavasu',\n",
       "  'text': 'raibhya, a brahman, father of arvaavasu and paraavasu.'},\n",
       " {'head': 'raibhya',\n",
       "  'relation': 'father of',\n",
       "  'tail': 'paraavasu',\n",
       "  'text': 'raibhya, a brahman, father of arvaavasu and paraavasu.'}]"
      ]
     },
     "execution_count": 278,
     "metadata": {},
     "output_type": "execute_result"
    }
   ],
   "source": [
    "extract_rel([\"raibhya, a brahman, father of arvāvasu and parāvasu\"],'father')"
   ]
  },
  {
   "cell_type": "code",
   "execution_count": 275,
   "id": "b8d076ab",
   "metadata": {},
   "outputs": [
    {
     "name": "stdout",
     "output_type": "stream",
     "text": [
      "['janamejaya']\n"
     ]
    },
    {
     "data": {
      "text/plain": [
       "[{'head': 'parikshit',\n",
       "  'relation': 'father of',\n",
       "  'tail': 'janamejaya',\n",
       "  'text': 'parikshit or parikshit, son of abhimanyu and uttaraa, and father of janamejaya.'}]"
      ]
     },
     "execution_count": 275,
     "metadata": {},
     "output_type": "execute_result"
    }
   ],
   "source": [
    "extract_rel([\"parikṣit or parīkṣit, son of abhimanyu and uttarā, and father of janamejaya.\"],'father')"
   ]
  },
  {
   "cell_type": "code",
   "execution_count": null,
   "id": "b3976c2c",
   "metadata": {},
   "outputs": [],
   "source": []
  }
 ],
 "metadata": {
  "kaggle": {
   "accelerator": "none",
   "dataSources": [
    {
     "datasetId": 4785207,
     "sourceId": 8192777,
     "sourceType": "datasetVersion"
    }
   ],
   "dockerImageVersionId": 30698,
   "isGpuEnabled": false,
   "isInternetEnabled": true,
   "language": "python",
   "sourceType": "notebook"
  },
  "kernelspec": {
   "display_name": "Python 3 (ipykernel)",
   "language": "python",
   "name": "python3"
  },
  "language_info": {
   "codemirror_mode": {
    "name": "ipython",
    "version": 3
   },
   "file_extension": ".py",
   "mimetype": "text/x-python",
   "name": "python",
   "nbconvert_exporter": "python",
   "pygments_lexer": "ipython3",
   "version": "3.11.8"
  }
 },
 "nbformat": 4,
 "nbformat_minor": 5
}

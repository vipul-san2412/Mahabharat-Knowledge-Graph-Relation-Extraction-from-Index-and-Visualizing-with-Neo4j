{
 "cells": [
  {
   "cell_type": "code",
   "execution_count": 1,
   "id": "2c64e42e-590c-4ebd-829e-b58553354b62",
   "metadata": {},
   "outputs": [],
   "source": [
    "import pickle\n",
    "\n",
    "with open('BROTHER.pkl', 'rb') as f:\n",
    "    BROTHER = pickle.load(f)\n",
    "\n",
    "with open('DAUGHTER.pkl', 'rb') as f:\n",
    "    DAUGHTER = pickle.load(f)\n",
    "\n",
    "with open('FATHER.pkl', 'rb') as f:\n",
    "    FATHER = pickle.load(f)\n",
    "\n",
    "with open('HUSBAND.pkl', 'rb') as f:\n",
    "    HUSBAND = pickle.load(f)\n",
    "\n",
    "with open('MOTHER.pkl', 'rb') as f:\n",
    "    MOTHER = pickle.load(f)\n",
    "\n",
    "with open('SISTER.pkl', 'rb') as f:\n",
    "    SISTER = pickle.load(f)\n",
    "\n",
    "with open('SON.pkl', 'rb') as f:\n",
    "    SON = pickle.load(f)\n",
    "\n",
    "with open('WIFE.pkl', 'rb') as f:\n",
    "    WIFE = pickle.load(f)"
   ]
  },
  {
   "cell_type": "code",
   "execution_count": 2,
   "id": "f34b161d-7429-4a89-9156-7eb821fff07f",
   "metadata": {},
   "outputs": [],
   "source": [
    "rels = ['SISTER','DAUGHTER','HUSBAND','FATHER','MOTHER','SON','WIFE']"
   ]
  },
  {
   "cell_type": "code",
   "execution_count": 3,
   "id": "73b796cc-40af-4583-aa8c-5be7b3228f15",
   "metadata": {},
   "outputs": [],
   "source": [
    "import csv"
   ]
  },
  {
   "cell_type": "code",
   "execution_count": null,
   "id": "7ea32009-706c-48ff-b814-156ce7affe75",
   "metadata": {},
   "outputs": [],
   "source": []
  },
  {
   "cell_type": "code",
   "execution_count": 4,
   "id": "1d4e7791-9cf6-476d-9b2c-bbd6522bdff6",
   "metadata": {},
   "outputs": [],
   "source": [
    "field_names = ['head', 'relation', 'tail', 'text']\n",
    "\n",
    "# Open the CSV file in write mode\n",
    "with open('Relations_dep.csv', 'w', newline='',encoding='utf-8') as csvfile:\n",
    "    writer = csv.DictWriter(csvfile, fieldnames=field_names)\n",
    "    writer.writeheader()\n",
    "    for item in BROTHER:\n",
    "        writer.writerow(item)\n"
   ]
  },
  {
   "cell_type": "code",
   "execution_count": 5,
   "id": "cec9e7fa-6128-4030-a5bf-682562ab941a",
   "metadata": {},
   "outputs": [],
   "source": [
    "with open('Relations_Dep.csv', 'a', newline='', encoding='utf-8') as csvfile:\n",
    "    writer = csv.DictWriter(csvfile, fieldnames=field_names)\n",
    "    for item in FATHER:\n",
    "        writer.writerow(item)\n",
    "\n",
    "with open('Relations_Dep.csv', 'a', newline='', encoding='utf-8') as csvfile:\n",
    "    writer = csv.DictWriter(csvfile, fieldnames=field_names)\n",
    "    for item in MOTHER:\n",
    "        writer.writerow(item)\n",
    "\n",
    "with open('Relations_Dep.csv', 'a', newline='', encoding='utf-8') as csvfile:\n",
    "    writer = csv.DictWriter(csvfile, fieldnames=field_names)\n",
    "    for item in SISTER:\n",
    "        writer.writerow(item)\n",
    "\n",
    "with open('Relations_Dep.csv', 'a', newline='', encoding='utf-8') as csvfile:\n",
    "    writer = csv.DictWriter(csvfile, fieldnames=field_names)\n",
    "    for item in SON:\n",
    "        writer.writerow(item)\n",
    "\n",
    "with open('Relations_Dep.csv', 'a', newline='', encoding='utf-8') as csvfile:\n",
    "    writer = csv.DictWriter(csvfile, fieldnames=field_names)\n",
    "    for item in DAUGHTER:\n",
    "        writer.writerow(item)\n",
    "\n",
    "with open('Relations_Dep.csv', 'a', newline='', encoding='utf-8') as csvfile:\n",
    "    writer = csv.DictWriter(csvfile, fieldnames=field_names)\n",
    "    for item in HUSBAND:\n",
    "        writer.writerow(item)\n",
    "\n",
    "with open('Relations_Dep.csv', 'a', newline='', encoding='utf-8') as csvfile:\n",
    "    writer = csv.DictWriter(csvfile, fieldnames=field_names)\n",
    "    for item in WIFE:\n",
    "        writer.writerow(item)"
   ]
  },
  {
   "cell_type": "code",
   "execution_count": 8,
   "id": "e6b3eb1a-7622-4a74-bb90-f8a444b5af53",
   "metadata": {},
   "outputs": [
    {
     "data": {
      "text/html": [
       "<div>\n",
       "<style scoped>\n",
       "    .dataframe tbody tr th:only-of-type {\n",
       "        vertical-align: middle;\n",
       "    }\n",
       "\n",
       "    .dataframe tbody tr th {\n",
       "        vertical-align: top;\n",
       "    }\n",
       "\n",
       "    .dataframe thead th {\n",
       "        text-align: right;\n",
       "    }\n",
       "</style>\n",
       "<table border=\"1\" class=\"dataframe\">\n",
       "  <thead>\n",
       "    <tr style=\"text-align: right;\">\n",
       "      <th></th>\n",
       "      <th>head</th>\n",
       "      <th>relation</th>\n",
       "      <th>tail</th>\n",
       "      <th>text</th>\n",
       "    </tr>\n",
       "  </thead>\n",
       "  <tbody>\n",
       "    <tr>\n",
       "      <th>0</th>\n",
       "      <td>dhritaarashtra</td>\n",
       "      <td>brother of</td>\n",
       "      <td>shakuni</td>\n",
       "      <td>acala1, brother in law of dhritaarashtra, brot...</td>\n",
       "    </tr>\n",
       "    <tr>\n",
       "      <th>1</th>\n",
       "      <td>ashvashanku</td>\n",
       "      <td>brother of</td>\n",
       "      <td>ashva</td>\n",
       "      <td>ashvashanku, brother of ashva, cf.</td>\n",
       "    </tr>\n",
       "    <tr>\n",
       "      <th>2</th>\n",
       "      <td>ashvashiras1</td>\n",
       "      <td>brother of</td>\n",
       "      <td>ashva</td>\n",
       "      <td>ashvashiras1, brother of ashva, is incarnated ...</td>\n",
       "    </tr>\n",
       "    <tr>\n",
       "      <th>3</th>\n",
       "      <td>ashvagriva1</td>\n",
       "      <td>brother of</td>\n",
       "      <td>ashva</td>\n",
       "      <td>ashvagriva1, brother of ashva, incarnated as k...</td>\n",
       "    </tr>\n",
       "    <tr>\n",
       "      <th>4</th>\n",
       "      <td>ashvapati1</td>\n",
       "      <td>brother of</td>\n",
       "      <td>ashva1</td>\n",
       "      <td>ashvapati1, brother of ashva1, incarnate as ki...</td>\n",
       "    </tr>\n",
       "  </tbody>\n",
       "</table>\n",
       "</div>"
      ],
      "text/plain": [
       "             head    relation     tail  \\\n",
       "0  dhritaarashtra  brother of  shakuni   \n",
       "1     ashvashanku  brother of    ashva   \n",
       "2    ashvashiras1  brother of    ashva   \n",
       "3     ashvagriva1  brother of    ashva   \n",
       "4      ashvapati1  brother of   ashva1   \n",
       "\n",
       "                                                text  \n",
       "0  acala1, brother in law of dhritaarashtra, brot...  \n",
       "1                 ashvashanku, brother of ashva, cf.  \n",
       "2  ashvashiras1, brother of ashva, is incarnated ...  \n",
       "3  ashvagriva1, brother of ashva, incarnated as k...  \n",
       "4  ashvapati1, brother of ashva1, incarnate as ki...  "
      ]
     },
     "execution_count": 8,
     "metadata": {},
     "output_type": "execute_result"
    }
   ],
   "source": [
    "import pandas as pd\n",
    "\n",
    "df = pd.read_csv('Relations_Dep.csv')\n",
    "\n",
    "# Display the first few rows of the DataFrame\n",
    "df.head()"
   ]
  },
  {
   "cell_type": "code",
   "execution_count": 9,
   "id": "324ed922-420c-41c7-9a67-6d9d6b6145d8",
   "metadata": {},
   "outputs": [
    {
     "name": "stderr",
     "output_type": "stream",
     "text": [
      "[nltk_data] Downloading package wordnet to\n",
      "[nltk_data]     C:\\Users\\rubyp\\AppData\\Roaming\\nltk_data...\n",
      "[nltk_data]   Package wordnet is already up-to-date!\n"
     ]
    }
   ],
   "source": [
    "import nltk\n",
    "nltk.download('wordnet')\n",
    "\n",
    "from nltk.corpus import wordnet\n",
    "\n",
    "def is_english_word(word):\n",
    "    # Check if the word is in WordNet's list of English words\n",
    "    return wordnet.synsets(word) != []"
   ]
  },
  {
   "cell_type": "code",
   "execution_count": 13,
   "id": "fe0f11b1-87ab-4cba-a6dc-b1001d720554",
   "metadata": {},
   "outputs": [
    {
     "name": "stdout",
     "output_type": "stream",
     "text": [
      "Filtered data saved to 'filtered_relations_dep.csv'\n"
     ]
    }
   ],
   "source": [
    "import pandas as pd\n",
    "\n",
    "\n",
    "# df = pd.DataFrame(data)\n",
    "\n",
    "# Function to filter out rows with English words in 'head' or 'tail' columns\n",
    "def filter_non_english_words(row):\n",
    "    if not is_english_word(row['head']) and not is_english_word(row['tail']):\n",
    "        return True\n",
    "    else:\n",
    "        return False\n",
    "\n",
    "# Apply the filter\n",
    "filtered_df = df[df.apply(filter_non_english_words, axis=1)]\n",
    "\n",
    "# Display the filtered DataFrame\n",
    "\n",
    "filtered_df.to_csv('filtered_relations_dep.csv', index=False)\n",
    "\n",
    "print(\"Filtered data saved to 'filtered_relations_dep.csv'\")\n"
   ]
  },
  {
   "cell_type": "code",
   "execution_count": 14,
   "id": "11c4bd99-3bd5-4148-9c38-5f836b73d9b6",
   "metadata": {},
   "outputs": [
    {
     "data": {
      "text/html": [
       "<div>\n",
       "<style scoped>\n",
       "    .dataframe tbody tr th:only-of-type {\n",
       "        vertical-align: middle;\n",
       "    }\n",
       "\n",
       "    .dataframe tbody tr th {\n",
       "        vertical-align: top;\n",
       "    }\n",
       "\n",
       "    .dataframe thead th {\n",
       "        text-align: right;\n",
       "    }\n",
       "</style>\n",
       "<table border=\"1\" class=\"dataframe\">\n",
       "  <thead>\n",
       "    <tr style=\"text-align: right;\">\n",
       "      <th></th>\n",
       "      <th>head</th>\n",
       "      <th>relation</th>\n",
       "      <th>tail</th>\n",
       "      <th>text</th>\n",
       "    </tr>\n",
       "  </thead>\n",
       "  <tbody>\n",
       "    <tr>\n",
       "      <th>0</th>\n",
       "      <td>dhritaarashtra</td>\n",
       "      <td>brother of</td>\n",
       "      <td>shakuni</td>\n",
       "      <td>acala1, brother in law of dhritaarashtra, brot...</td>\n",
       "    </tr>\n",
       "    <tr>\n",
       "      <th>1</th>\n",
       "      <td>ashvashanku</td>\n",
       "      <td>brother of</td>\n",
       "      <td>ashva</td>\n",
       "      <td>ashvashanku, brother of ashva, cf.</td>\n",
       "    </tr>\n",
       "    <tr>\n",
       "      <th>2</th>\n",
       "      <td>ashvashiras1</td>\n",
       "      <td>brother of</td>\n",
       "      <td>ashva</td>\n",
       "      <td>ashvashiras1, brother of ashva, is incarnated ...</td>\n",
       "    </tr>\n",
       "    <tr>\n",
       "      <th>3</th>\n",
       "      <td>ashvagriva1</td>\n",
       "      <td>brother of</td>\n",
       "      <td>ashva</td>\n",
       "      <td>ashvagriva1, brother of ashva, incarnated as k...</td>\n",
       "    </tr>\n",
       "    <tr>\n",
       "      <th>4</th>\n",
       "      <td>ashvapati1</td>\n",
       "      <td>brother of</td>\n",
       "      <td>ashva1</td>\n",
       "      <td>ashvapati1, brother of ashva1, incarnate as ki...</td>\n",
       "    </tr>\n",
       "  </tbody>\n",
       "</table>\n",
       "</div>"
      ],
      "text/plain": [
       "             head    relation     tail  \\\n",
       "0  dhritaarashtra  brother of  shakuni   \n",
       "1     ashvashanku  brother of    ashva   \n",
       "2    ashvashiras1  brother of    ashva   \n",
       "3     ashvagriva1  brother of    ashva   \n",
       "4      ashvapati1  brother of   ashva1   \n",
       "\n",
       "                                                text  \n",
       "0  acala1, brother in law of dhritaarashtra, brot...  \n",
       "1                 ashvashanku, brother of ashva, cf.  \n",
       "2  ashvashiras1, brother of ashva, is incarnated ...  \n",
       "3  ashvagriva1, brother of ashva, incarnated as k...  \n",
       "4  ashvapati1, brother of ashva1, incarnate as ki...  "
      ]
     },
     "execution_count": 14,
     "metadata": {},
     "output_type": "execute_result"
    }
   ],
   "source": [
    "filtered_df.head()"
   ]
  },
  {
   "cell_type": "code",
   "execution_count": null,
   "id": "9e36bb7f-4f45-4725-b735-8c23e135ef69",
   "metadata": {},
   "outputs": [],
   "source": []
  }
 ],
 "metadata": {
  "kernelspec": {
   "display_name": "Python 3 (ipykernel)",
   "language": "python",
   "name": "python3"
  },
  "language_info": {
   "codemirror_mode": {
    "name": "ipython",
    "version": 3
   },
   "file_extension": ".py",
   "mimetype": "text/x-python",
   "name": "python",
   "nbconvert_exporter": "python",
   "pygments_lexer": "ipython3",
   "version": "3.11.8"
  }
 },
 "nbformat": 4,
 "nbformat_minor": 5
}

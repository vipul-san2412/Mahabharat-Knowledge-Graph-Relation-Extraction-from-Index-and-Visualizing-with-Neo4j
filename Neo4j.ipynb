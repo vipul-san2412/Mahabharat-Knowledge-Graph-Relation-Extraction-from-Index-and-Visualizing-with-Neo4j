{
 "cells": [
  {
   "cell_type": "code",
   "execution_count": 1,
   "id": "3ddca399-6c48-41e9-844e-30fda11b7528",
   "metadata": {},
   "outputs": [],
   "source": [
    "import pandas as pd\n",
    "from neo4j import GraphDatabase"
   ]
  },
  {
   "cell_type": "code",
   "execution_count": 2,
   "id": "73be5b6b-4f42-402b-a94f-98295d611e25",
   "metadata": {},
   "outputs": [],
   "source": [
    "driver = GraphDatabase.driver(uri=\"bolt://localhost:7687\",auth=(\"neo4j\",\"bludgeon831\"))"
   ]
  },
  {
   "cell_type": "code",
   "execution_count": 3,
   "id": "30bfecb7-6589-4b70-9632-7a541a22f6d1",
   "metadata": {},
   "outputs": [],
   "source": [
    "session = driver.session()"
   ]
  },
  {
   "cell_type": "code",
   "execution_count": 4,
   "id": "3187d63a-2e60-43fa-9573-2afd570ccb50",
   "metadata": {},
   "outputs": [
    {
     "data": {
      "text/html": [
       "<div>\n",
       "<style scoped>\n",
       "    .dataframe tbody tr th:only-of-type {\n",
       "        vertical-align: middle;\n",
       "    }\n",
       "\n",
       "    .dataframe tbody tr th {\n",
       "        vertical-align: top;\n",
       "    }\n",
       "\n",
       "    .dataframe thead th {\n",
       "        text-align: right;\n",
       "    }\n",
       "</style>\n",
       "<table border=\"1\" class=\"dataframe\">\n",
       "  <thead>\n",
       "    <tr style=\"text-align: right;\">\n",
       "      <th></th>\n",
       "      <th>head</th>\n",
       "      <th>relation</th>\n",
       "      <th>tail</th>\n",
       "      <th>text</th>\n",
       "    </tr>\n",
       "  </thead>\n",
       "  <tbody>\n",
       "    <tr>\n",
       "      <th>0</th>\n",
       "      <td>dhritaarashtra</td>\n",
       "      <td>brother of</td>\n",
       "      <td>shakuni</td>\n",
       "      <td>acala1, brother in law of dhritaarashtra, brot...</td>\n",
       "    </tr>\n",
       "    <tr>\n",
       "      <th>1</th>\n",
       "      <td>ashvashanku</td>\n",
       "      <td>brother of</td>\n",
       "      <td>ashva</td>\n",
       "      <td>ashvashanku, brother of ashva, cf.</td>\n",
       "    </tr>\n",
       "    <tr>\n",
       "      <th>2</th>\n",
       "      <td>ashvashiras1</td>\n",
       "      <td>brother of</td>\n",
       "      <td>ashva</td>\n",
       "      <td>ashvashiras1, brother of ashva, is incarnated ...</td>\n",
       "    </tr>\n",
       "    <tr>\n",
       "      <th>3</th>\n",
       "      <td>ashvagriva1</td>\n",
       "      <td>brother of</td>\n",
       "      <td>ashva</td>\n",
       "      <td>ashvagriva1, brother of ashva, incarnated as k...</td>\n",
       "    </tr>\n",
       "    <tr>\n",
       "      <th>4</th>\n",
       "      <td>ashvapati1</td>\n",
       "      <td>brother of</td>\n",
       "      <td>ashva1</td>\n",
       "      <td>ashvapati1, brother of ashva1, incarnate as ki...</td>\n",
       "    </tr>\n",
       "    <tr>\n",
       "      <th>...</th>\n",
       "      <td>...</td>\n",
       "      <td>...</td>\n",
       "      <td>...</td>\n",
       "      <td>...</td>\n",
       "    </tr>\n",
       "    <tr>\n",
       "      <th>1011</th>\n",
       "      <td>vishaalaa</td>\n",
       "      <td>wife of</td>\n",
       "      <td>ajamidha</td>\n",
       "      <td>vishaalaa, wife of ajamidha.</td>\n",
       "    </tr>\n",
       "    <tr>\n",
       "      <th>1012</th>\n",
       "      <td>jamadagni</td>\n",
       "      <td>wife of</td>\n",
       "      <td>gaadhi</td>\n",
       "      <td>then, by the favour of ricika, she gave birth ...</td>\n",
       "    </tr>\n",
       "    <tr>\n",
       "      <th>1013</th>\n",
       "      <td>viraa</td>\n",
       "      <td>wife of</td>\n",
       "      <td>the fire bharadvaaja</td>\n",
       "      <td>viraa, wife of the fire bharadvaaja.</td>\n",
       "    </tr>\n",
       "    <tr>\n",
       "      <th>1014</th>\n",
       "      <td>virini</td>\n",
       "      <td>wife of</td>\n",
       "      <td>daksha</td>\n",
       "      <td>virini, wife of daksha.</td>\n",
       "    </tr>\n",
       "    <tr>\n",
       "      <th>1015</th>\n",
       "      <td>yashodaa</td>\n",
       "      <td>wife of</td>\n",
       "      <td>the cowherd</td>\n",
       "      <td>yashodaa, wife of the cowherd nanda.</td>\n",
       "    </tr>\n",
       "  </tbody>\n",
       "</table>\n",
       "<p>1016 rows × 4 columns</p>\n",
       "</div>"
      ],
      "text/plain": [
       "                head    relation                  tail  \\\n",
       "0     dhritaarashtra  brother of               shakuni   \n",
       "1        ashvashanku  brother of                 ashva   \n",
       "2       ashvashiras1  brother of                 ashva   \n",
       "3        ashvagriva1  brother of                 ashva   \n",
       "4         ashvapati1  brother of                ashva1   \n",
       "...              ...         ...                   ...   \n",
       "1011       vishaalaa     wife of              ajamidha   \n",
       "1012       jamadagni     wife of                gaadhi   \n",
       "1013           viraa     wife of  the fire bharadvaaja   \n",
       "1014          virini     wife of                daksha   \n",
       "1015        yashodaa     wife of           the cowherd   \n",
       "\n",
       "                                                   text  \n",
       "0     acala1, brother in law of dhritaarashtra, brot...  \n",
       "1                    ashvashanku, brother of ashva, cf.  \n",
       "2     ashvashiras1, brother of ashva, is incarnated ...  \n",
       "3     ashvagriva1, brother of ashva, incarnated as k...  \n",
       "4     ashvapati1, brother of ashva1, incarnate as ki...  \n",
       "...                                                 ...  \n",
       "1011                       vishaalaa, wife of ajamidha.  \n",
       "1012  then, by the favour of ricika, she gave birth ...  \n",
       "1013               viraa, wife of the fire bharadvaaja.  \n",
       "1014                            virini, wife of daksha.  \n",
       "1015               yashodaa, wife of the cowherd nanda.  \n",
       "\n",
       "[1016 rows x 4 columns]"
      ]
     },
     "execution_count": 4,
     "metadata": {},
     "output_type": "execute_result"
    }
   ],
   "source": [
    "df = pd.read_csv(\"Relations/filtered_relations_dep.csv\")\n",
    "df"
   ]
  },
  {
   "cell_type": "code",
   "execution_count": null,
   "id": "e3a2bfff-7e18-409f-b1fe-bad0cb7db031",
   "metadata": {},
   "outputs": [],
   "source": []
  },
  {
   "cell_type": "code",
   "execution_count": 5,
   "id": "0fb3bd71-a1da-4106-a6e7-5c28fbfd1e49",
   "metadata": {},
   "outputs": [],
   "source": [
    "query = \"\"\"\n",
    "MERGE (h:Node {name: $head})\n",
    "MERGE (t:Node {name: $tail})\n",
    "WITH h, t\n",
    "CALL apoc.create.relationship(h, $relation, {}, t) YIELD rel\n",
    "RETURN h, rel, t\n",
    "\"\"\""
   ]
  },
  {
   "cell_type": "code",
   "execution_count": 9,
   "id": "824e48b7-7681-40b3-908a-d15b80713b62",
   "metadata": {},
   "outputs": [],
   "source": [
    "for i in range(len(df)):\n",
    "    p = {'head': df['head'][i], 'tail': df['tail'][i], 'relation': df['relation'][i]}\n",
    "    session.run(query,p)"
   ]
  },
  {
   "cell_type": "code",
   "execution_count": 7,
   "id": "c52188d0-0dbc-437a-92b7-55b29d74c41e",
   "metadata": {},
   "outputs": [
    {
     "data": {
      "text/plain": [
       "Index(['head', 'relation', 'tail', 'text'], dtype='object')"
      ]
     },
     "execution_count": 7,
     "metadata": {},
     "output_type": "execute_result"
    }
   ],
   "source": [
    "df.columns"
   ]
  },
  {
   "cell_type": "raw",
   "id": "1d7aee4c-68c0-4d48-94cb-55ef00e7e87c",
   "metadata": {},
   "source": []
  },
  {
   "cell_type": "code",
   "execution_count": null,
   "id": "8ad0230a-b049-427d-a99f-1364bc2d66be",
   "metadata": {},
   "outputs": [],
   "source": []
  },
  {
   "cell_type": "code",
   "execution_count": null,
   "id": "6d3d455d-7f53-46d9-9572-20a159748803",
   "metadata": {},
   "outputs": [],
   "source": []
  }
 ],
 "metadata": {
  "kernelspec": {
   "display_name": "Python 3 (ipykernel)",
   "language": "python",
   "name": "python3"
  },
  "language_info": {
   "codemirror_mode": {
    "name": "ipython",
    "version": 3
   },
   "file_extension": ".py",
   "mimetype": "text/x-python",
   "name": "python",
   "nbconvert_exporter": "python",
   "pygments_lexer": "ipython3",
   "version": "3.11.8"
  }
 },
 "nbformat": 4,
 "nbformat_minor": 5
}

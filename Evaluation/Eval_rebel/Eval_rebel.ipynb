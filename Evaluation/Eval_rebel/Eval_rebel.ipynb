{
 "cells": [
  {
   "cell_type": "markdown",
   "id": "86f5ff32-3f20-42a8-8ede-7ed3dcb8ed38",
   "metadata": {},
   "source": [
    "# Evaluation "
   ]
  },
  {
   "cell_type": "code",
   "execution_count": 107,
   "id": "9c614f51-a6be-4a3a-a8d8-ac310ea692f2",
   "metadata": {},
   "outputs": [],
   "source": [
    "# import csv\n",
    "   \n",
    "# def fetch_csv_rows(file_path):\n",
    "#     rows1 = []\n",
    "#     with open(file_path, 'r') as file:\n",
    "#         reader = csv.reader(file)\n",
    "#         for row in reader:\n",
    "#             rows1.append(row)\n",
    "#     return rows1\n",
    "\n",
    "# file_path = \"relations.csv\"\n",
    "# csv_rows1 = fetch_csv_rows(file_path)\n",
    "# # print(csv_rows1)"
   ]
  },
  {
   "cell_type": "code",
   "execution_count": 108,
   "id": "99bccb74-19e9-4428-a613-98278869af0f",
   "metadata": {},
   "outputs": [],
   "source": [
    "# import csv\n",
    "   \n",
    "# def fetch_csv_rows(file_path):\n",
    "#     rows2 = []\n",
    "#     with open(file_path, 'r') as file:\n",
    "#         reader = csv.reader(file)\n",
    "#         for row in reader:\n",
    "#             rows2.append(row)\n",
    "#     return rows2\n",
    "\n",
    "# file_path = \"true_relations.csv\"\n",
    "# csv_rows2 = fetch_csv_rows(file_path)\n",
    "# # print(csv_rows2)"
   ]
  },
  {
   "cell_type": "code",
   "execution_count": 109,
   "id": "3634cd01-afda-4821-90c8-67b2523e9a26",
   "metadata": {},
   "outputs": [],
   "source": [
    "# cnt=0\n",
    "# for i in csv_rows1:\n",
    "#     for j in csv_rows2:\n",
    "#         if i==j:\n",
    "#             # print(i)\n",
    "#             cnt = cnt +1 \n",
    "\n",
    "# total_predictions = len(csv_rows2)  # Assuming the same number of predictions in both files\n",
    "# print(\"total matched relatinos : \",cnt)\n",
    "# accuracy = cnt / total_predictions\n",
    "# print(accuracy)"
   ]
  },
  {
   "cell_type": "code",
   "execution_count": 110,
   "id": "d417cf42-7a06-4a4d-b8b3-34a68915acc3",
   "metadata": {},
   "outputs": [],
   "source": [
    "# row1 = predicted relatinos\n",
    "# row2 = true relations\n",
    "import csv \n",
    "\n",
    "def find_Accuracy( predicted_relations , true_relations ):\n",
    "    rows1 = []\n",
    "    with open(predicted_relations, 'r') as file:\n",
    "        reader = csv.reader(file)\n",
    "        for row in reader:\n",
    "            rows1.append(row)\n",
    "\n",
    "    rows2 = []\n",
    "    with open(true_relations, 'r') as file:\n",
    "        reader = csv.reader(file)\n",
    "        for row in reader:\n",
    "            rows2.append(row)\n",
    "            \n",
    "    # calculating accuracy         \n",
    "    cnt=0\n",
    "    matched_relations = []\n",
    "    for i in rows1:\n",
    "        for j in rows2:\n",
    "            if i==j:\n",
    "                matched_relations.append(i)\n",
    "                # print(i)\n",
    "                cnt = cnt +1 \n",
    "    \n",
    "    total_predictions = len(rows2)  # Assuming the same number of predictions in both files\n",
    "    print(\"total matched relatinos : \",cnt)\n",
    "    accuracy = cnt / total_predictions\n",
    "    print(accuracy)\n",
    "    return matched_relations\n",
    "         \n",
    "    "
   ]
  },
  {
   "cell_type": "code",
   "execution_count": 117,
   "id": "f5bd349e-c9fe-4589-a79d-f64637b661d2",
   "metadata": {},
   "outputs": [
    {
     "name": "stdout",
     "output_type": "stream",
     "text": [
      "total matched relatinos :  52\n",
      "0.33766233766233766\n",
      "[['aa kauravya', 'child', 'prithaa'], ['abhimanyu', 'father', 'arjuna i'], ['abhimanyu', 'spouse', 'uttaraa'], ['ambaa', 'sibling', 'ambaalikaa'], ['ambaa', 'sibling', 'ambikaa'], ['ambaalikaa', 'sibling', 'ambaa'], ['ambikaa', 'sibling', 'ambaa'], ['arjuna i', 'sibling', 'bhima'], ['arjuna i', 'sibling', 'duryodhana'], ['arjuna i', 'sibling', 'karna'], ['arjuna i', 'sibling', 'nakula'], ['arjuna i', 'sibling', 'yudhishthira'], ['arjuna i', 'spouse', 'subhadraa'], ['bhima', 'sibling', 'arjuna i'], ['bhima', 'sibling', 'nakula'], ['bhima', 'spouse', 'hidimbaa'], ['dhritaraashtra', 'child', 'duryodhana'], ['dhritaraashtra', 'spouse', 'gaandhaari'], ['draupadi', 'father', 'drupada'], ['duryodhana', 'father', 'dhritaraashtra'], ['duryodhana', 'mother', 'gaandhaari'], ['duryodhana', 'sibling', 'arjuna i'], ['duryodhana', 'sibling', 'yudhishthira'], ['hidimbaa', 'spouse', 'bhima'], ['jaambavati', 'spouse', 'krishna'], ['karna', 'sibling', 'arjuna i'], ['krishna', 'mother', 'devaki'], ['krishna', 'spouse', 'jaambavati'], ['krishna', 'spouse', 'rukmini'], ['kunti', 'spouse', 'paandu'], ['maadri', 'child', 'nakula'], ['maadri', 'spouse', 'paandu'], ['nakula', 'father', 'paandu'], ['nakula', 'sibling', 'arjuna i'], ['nakula', 'sibling', 'bhima'], ['paandu', 'child', 'arjuna i'], ['paandu', 'child', 'nakula'], ['paandu', 'child', 'yudhishthira'], ['paandu', 'spouse', 'kunti'], ['paandu', 'spouse', 'maadri'], ['pradyumna', 'father', 'krishna'], ['pradyumna', 'mother', 'rukmini'], ['rukmini', 'child', 'pradyumna'], ['rukmini', 'spouse', 'krishna'], ['shakuni', 'father', 'subala'], ['shishupaala', 'father', 'damaghosha'], ['subala', 'child', 'shakuni'], ['subhadraa', 'spouse', 'arjuna i'], ['yudhishthira', 'father', 'paandu'], ['yudhishthira', 'sibling', 'arjuna i'], ['yudhishthira', 'sibling', 'nakula']]\n"
     ]
    }
   ],
   "source": [
    "predicted_relations = \"relations.csv\"\n",
    "true_relations = \"true_relations.csv\"\n",
    "\n",
    "matched_relations = find_Accuracy( predicted_relations , true_relations )\n",
    "matched_relations = matched_relations[1:]\n",
    "print(matched_relations)"
   ]
  },
  {
   "cell_type": "markdown",
   "id": "2a46d4d3-b107-470a-a16a-ccedd25f51fe",
   "metadata": {},
   "source": [
    "## "
   ]
  }
 ],
 "metadata": {
  "kernelspec": {
   "display_name": "Python 3 (ipykernel)",
   "language": "python",
   "name": "python3"
  },
  "language_info": {
   "codemirror_mode": {
    "name": "ipython",
    "version": 3
   },
   "file_extension": ".py",
   "mimetype": "text/x-python",
   "name": "python",
   "nbconvert_exporter": "python",
   "pygments_lexer": "ipython3",
   "version": "3.11.8"
  }
 },
 "nbformat": 4,
 "nbformat_minor": 5
}

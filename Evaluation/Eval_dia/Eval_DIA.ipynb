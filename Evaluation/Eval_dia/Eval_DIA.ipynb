{
 "cells": [
  {
   "cell_type": "markdown",
   "id": "86f5ff32-3f20-42a8-8ede-7ed3dcb8ed38",
   "metadata": {},
   "source": [
    "# Evaluation "
   ]
  },
  {
   "cell_type": "code",
   "execution_count": 21,
   "id": "15e1ae16-8ba1-4fc6-8e63-5a657f6edd3f",
   "metadata": {},
   "outputs": [],
   "source": [
    "import csv\n",
    "import pandas as pd"
   ]
  },
  {
   "cell_type": "code",
   "execution_count": 22,
   "id": "10c889f9-1a58-4161-81d0-8d0edf5f1b35",
   "metadata": {},
   "outputs": [
    {
     "name": "stdout",
     "output_type": "stream",
     "text": [
      "Accuracy of the 'relation' column: 90.75%\n"
     ]
    }
   ],
   "source": [
    "file_path = \"relations_dia.csv\"  # replace with your CSV file path\n",
    "rel_dia = pd.read_csv(file_path)\n",
    "accuracy = rel_dia['Acc'].mean()  # replace 'accuracy_column' with the actual column name\n",
    "\n",
    "print(f\"Accuracy of the 'relation' column: {accuracy * 100:.2f}%\")"
   ]
  },
  {
   "cell_type": "code",
   "execution_count": 26,
   "id": "2d23791d-d2cc-4fd6-ba6d-478f6d137d40",
   "metadata": {},
   "outputs": [
    {
     "name": "stdout",
     "output_type": "stream",
     "text": [
      "Correct relations:\n"
     ]
    },
    {
     "data": {
      "text/html": [
       "<div>\n",
       "<style scoped>\n",
       "    .dataframe tbody tr th:only-of-type {\n",
       "        vertical-align: middle;\n",
       "    }\n",
       "\n",
       "    .dataframe tbody tr th {\n",
       "        vertical-align: top;\n",
       "    }\n",
       "\n",
       "    .dataframe thead th {\n",
       "        text-align: right;\n",
       "    }\n",
       "</style>\n",
       "<table border=\"1\" class=\"dataframe\">\n",
       "  <thead>\n",
       "    <tr style=\"text-align: right;\">\n",
       "      <th></th>\n",
       "      <th>head</th>\n",
       "      <th>relation</th>\n",
       "      <th>tail</th>\n",
       "      <th>text</th>\n",
       "      <th>Acc</th>\n",
       "    </tr>\n",
       "  </thead>\n",
       "  <tbody>\n",
       "    <tr>\n",
       "      <th>1</th>\n",
       "      <td>ashvashanku</td>\n",
       "      <td>brother of</td>\n",
       "      <td>ashva</td>\n",
       "      <td>ashvashanku, brother of ashva, cf.</td>\n",
       "      <td>1</td>\n",
       "    </tr>\n",
       "    <tr>\n",
       "      <th>2</th>\n",
       "      <td>ashvashiras1</td>\n",
       "      <td>brother of</td>\n",
       "      <td>ashva</td>\n",
       "      <td>ashvashiras1, brother of ashva, is incarnated ...</td>\n",
       "      <td>1</td>\n",
       "    </tr>\n",
       "    <tr>\n",
       "      <th>3</th>\n",
       "      <td>ashvagriva1</td>\n",
       "      <td>brother of</td>\n",
       "      <td>ashva</td>\n",
       "      <td>ashvagriva1, brother of ashva, incarnated as k...</td>\n",
       "      <td>1</td>\n",
       "    </tr>\n",
       "    <tr>\n",
       "      <th>4</th>\n",
       "      <td>ashvapati1</td>\n",
       "      <td>brother of</td>\n",
       "      <td>ashva1</td>\n",
       "      <td>ashvapati1, brother of ashva1, incarnate as ki...</td>\n",
       "      <td>1</td>\n",
       "    </tr>\n",
       "    <tr>\n",
       "      <th>5</th>\n",
       "      <td>anikavidaarana</td>\n",
       "      <td>brother of</td>\n",
       "      <td>jayadratha</td>\n",
       "      <td>anikavidaarana, brother of jayadratha.</td>\n",
       "      <td>1</td>\n",
       "    </tr>\n",
       "    <tr>\n",
       "      <th>...</th>\n",
       "      <td>...</td>\n",
       "      <td>...</td>\n",
       "      <td>...</td>\n",
       "      <td>...</td>\n",
       "      <td>...</td>\n",
       "    </tr>\n",
       "    <tr>\n",
       "      <th>119</th>\n",
       "      <td>prajaapate</td>\n",
       "      <td>father of</td>\n",
       "      <td>ikshvaakuaanushaasanik</td>\n",
       "      <td>prajaapate, father of ikshvaakuaanushaasanik.</td>\n",
       "      <td>1</td>\n",
       "    </tr>\n",
       "    <tr>\n",
       "      <th>121</th>\n",
       "      <td>krishnadeva</td>\n",
       "      <td>father of</td>\n",
       "      <td>virajasgitam</td>\n",
       "      <td>hari, = krishna= = harim = nparam brahma npara...</td>\n",
       "      <td>1</td>\n",
       "    </tr>\n",
       "    <tr>\n",
       "      <th>124</th>\n",
       "      <td>parikshit</td>\n",
       "      <td>father of</td>\n",
       "      <td>janamejaya</td>\n",
       "      <td>parikshit or parikshit, son of abhimanyu and u...</td>\n",
       "      <td>1</td>\n",
       "    </tr>\n",
       "    <tr>\n",
       "      <th>125</th>\n",
       "      <td>prajaapati2</td>\n",
       "      <td>father of</td>\n",
       "      <td>the vasus</td>\n",
       "      <td>prajaapati2, the father of the vasus.</td>\n",
       "      <td>1</td>\n",
       "    </tr>\n",
       "    <tr>\n",
       "      <th>126</th>\n",
       "      <td>pramati</td>\n",
       "      <td>father of</td>\n",
       "      <td>ruru</td>\n",
       "      <td>pramati, a rishi, father of ruru.</td>\n",
       "      <td>1</td>\n",
       "    </tr>\n",
       "  </tbody>\n",
       "</table>\n",
       "<p>100 rows × 5 columns</p>\n",
       "</div>"
      ],
      "text/plain": [
       "               head    relation                    tail  \\\n",
       "1       ashvashanku  brother of                   ashva   \n",
       "2      ashvashiras1  brother of                   ashva   \n",
       "3       ashvagriva1  brother of                   ashva   \n",
       "4        ashvapati1  brother of                  ashva1   \n",
       "5    anikavidaarana  brother of              jayadratha   \n",
       "..              ...         ...                     ...   \n",
       "119      prajaapate   father of  ikshvaakuaanushaasanik   \n",
       "121     krishnadeva   father of            virajasgitam   \n",
       "124       parikshit   father of              janamejaya   \n",
       "125     prajaapati2   father of               the vasus   \n",
       "126         pramati   father of                    ruru   \n",
       "\n",
       "                                                  text  Acc  \n",
       "1                   ashvashanku, brother of ashva, cf.    1  \n",
       "2    ashvashiras1, brother of ashva, is incarnated ...    1  \n",
       "3    ashvagriva1, brother of ashva, incarnated as k...    1  \n",
       "4    ashvapati1, brother of ashva1, incarnate as ki...    1  \n",
       "5               anikavidaarana, brother of jayadratha.    1  \n",
       "..                                                 ...  ...  \n",
       "119      prajaapate, father of ikshvaakuaanushaasanik.    1  \n",
       "121  hari, = krishna= = harim = nparam brahma npara...    1  \n",
       "124  parikshit or parikshit, son of abhimanyu and u...    1  \n",
       "125              prajaapati2, the father of the vasus.    1  \n",
       "126                  pramati, a rishi, father of ruru.    1  \n",
       "\n",
       "[100 rows x 5 columns]"
      ]
     },
     "execution_count": 26,
     "metadata": {},
     "output_type": "execute_result"
    }
   ],
   "source": [
    "correct_relations = rel_dia[rel_dia['Acc'] == 1]\n",
    "\n",
    "print(\"Correct relations:\")\n",
    "correct_relations[:100]"
   ]
  },
  {
   "cell_type": "code",
   "execution_count": null,
   "id": "78adfe4c-d5e9-45b6-b49b-33d196542249",
   "metadata": {},
   "outputs": [],
   "source": []
  }
 ],
 "metadata": {
  "kernelspec": {
   "display_name": "Python 3 (ipykernel)",
   "language": "python",
   "name": "python3"
  },
  "language_info": {
   "codemirror_mode": {
    "name": "ipython",
    "version": 3
   },
   "file_extension": ".py",
   "mimetype": "text/x-python",
   "name": "python",
   "nbconvert_exporter": "python",
   "pygments_lexer": "ipython3",
   "version": "3.11.8"
  }
 },
 "nbformat": 4,
 "nbformat_minor": 5
}

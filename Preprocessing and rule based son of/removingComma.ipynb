{
 "cells": [
  {
   "cell_type": "markdown",
   "id": "71bffa83",
   "metadata": {},
   "source": [
    "# Removing comma From Mahabharata text"
   ]
  },
  {
   "cell_type": "code",
   "execution_count": 12,
   "id": "b5227b23",
   "metadata": {},
   "outputs": [],
   "source": [
    "with open('cleanedTextFileFinalDONE.txt','r',encoding='utf-8') as file:\n",
    "    text = file.readlines()"
   ]
  },
  {
   "cell_type": "code",
   "execution_count": 13,
   "id": "cd71dd68",
   "metadata": {},
   "outputs": [],
   "source": [
    "ans = []\n",
    "for i in text:\n",
    "    ans.append(i.replace(\",\", \"\"))"
   ]
  },
  {
   "cell_type": "code",
   "execution_count": 14,
   "id": "9dbb6a51",
   "metadata": {},
   "outputs": [],
   "source": [
    "with open('noCommaFile.txt', 'w') as new_file2:\n",
    "    for sentence in ans:\n",
    "        new_file2.writelines(sentence)"
   ]
  }
 ],
 "metadata": {
  "kernelspec": {
   "display_name": "Python 3 (ipykernel)",
   "language": "python",
   "name": "python3"
  },
  "language_info": {
   "codemirror_mode": {
    "name": "ipython",
    "version": 3
   },
   "file_extension": ".py",
   "mimetype": "text/x-python",
   "name": "python",
   "nbconvert_exporter": "python",
   "pygments_lexer": "ipython3",
   "version": "3.9.13"
  }
 },
 "nbformat": 4,
 "nbformat_minor": 5
}
